{
 "cells": [
  {
   "cell_type": "code",
   "execution_count": 9,
   "id": "7f92eace",
   "metadata": {},
   "outputs": [],
   "source": [
    "import pandas as pd\n",
    "import requests, json\n",
    "from datetime import date, timedelta\n",
    "from collections import defaultdict\n",
    "import xml.etree.ElementTree as ET\n",
    "from math import dist"
   ]
  },
  {
   "cell_type": "code",
   "execution_count": 10,
   "id": "578bc6a5",
   "metadata": {},
   "outputs": [],
   "source": [
    "# 지점번호 번호 리스트 가져오기 - api 매개변수용\n",
    "point_df= pd.read_csv('point_start.csv')\n",
    "point_list = list(point_df['지점번호'])"
   ]
  },
  {
   "cell_type": "code",
   "execution_count": null,
   "id": "3556ce57",
   "metadata": {},
   "outputs": [],
   "source": [
    "#,('20060101','20061231'),('20070101','20071231'),('20080101','20081231'),('20090101','20091231'),('20100101','20101231'),('20110101','20111231')"
   ]
  },
  {
   "cell_type": "code",
   "execution_count": 21,
   "id": "dceeee29",
   "metadata": {},
   "outputs": [],
   "source": [
    "date_pairs = [('20031228','20031231')]\n",
    "pageNo = 9\n",
    "#1년기준 9페이지"
   ]
  },
  {
   "cell_type": "code",
   "execution_count": 22,
   "id": "5983971f",
   "metadata": {},
   "outputs": [],
   "source": [
    "# 2004~2011 기상데이터 수집\n",
    "KEY = 'XFvzJWgUESMIABoVtfrlH/5UAPe0XlfdQL4aWwGW3PRP7nglPl6l5gbtu9YikPPPpECveIjH0YwuXi9ZccGTcA=='\n",
    "url = 'http://apis.data.go.kr/1360000/AsosHourlyInfoService/getWthrDataList'\n",
    "result_a = []\n",
    "\n",
    "for date_pair in date_pairs:\n",
    "\n",
    "    # 지점 정하고\n",
    "    for point in point_list:\n",
    "        # 한 지점당 71페이지-999 row 기준\n",
    "        for page in range(pageNo):\n",
    "            params ={'serviceKey' : 'XFvzJWgUESMIABoVtfrlH/5UAPe0XlfdQL4aWwGW3PRP7nglPl6l5gbtu9YikPPPpECveIjH0YwuXi9ZccGTcA==', 'pageNo' : page+1, 'numOfRows' : '999', 'dataType' : 'XML', 'dataCd' : 'ASOS', 'dateCd' : 'HR', 'startDt' : date_pair[0], 'startHh' : '00', 'endDt' : date_pair[1], 'endHh' : '23', 'stnIds' : point }\n",
    "\n",
    "            response = requests.get(url, params=params)\n",
    "            root = ET.fromstring(response.text)\n",
    "            result=[]\n",
    "\n",
    "            for node in root.iter('item'):\n",
    "                rows = defaultdict(list)\n",
    "                for i in node:\n",
    "                    rows[i.tag] = i.text\n",
    "                result.append(rows)\n",
    "\n",
    "\n",
    "            for j in result:\n",
    "                sa=dict(j)\n",
    "                result_a.append(sa)\n",
    "sd = pd.DataFrame(result_a, columns=result_a[0].keys())\n",
    "sd.to_csv('final_weather_2004_2011_0.csv')"
   ]
  },
  {
   "cell_type": "code",
   "execution_count": 5,
   "id": "b9b65942",
   "metadata": {},
   "outputs": [
    {
     "ename": "NameError",
     "evalue": "name 'datetime' is not defined",
     "output_type": "error",
     "traceback": [
      "\u001b[1;31m---------------------------------------------------------------------------\u001b[0m",
      "\u001b[1;31mNameError\u001b[0m                                 Traceback (most recent call last)",
      "Input \u001b[1;32mIn [5]\u001b[0m, in \u001b[0;36m<cell line: 1>\u001b[1;34m()\u001b[0m\n\u001b[1;32m----> 1\u001b[0m \u001b[38;5;28mprint\u001b[39m(\u001b[43mdatetime\u001b[49m\u001b[38;5;241m.\u001b[39mdatetime\u001b[38;5;241m.\u001b[39mnow())\n",
      "\u001b[1;31mNameError\u001b[0m: name 'datetime' is not defined"
     ]
    }
   ],
   "source": []
  },
  {
   "cell_type": "code",
   "execution_count": null,
   "id": "f84f10ab",
   "metadata": {},
   "outputs": [],
   "source": []
  }
 ],
 "metadata": {
  "kernelspec": {
   "display_name": "Python 3 (ipykernel)",
   "language": "python",
   "name": "python3"
  },
  "language_info": {
   "codemirror_mode": {
    "name": "ipython",
    "version": 3
   },
   "file_extension": ".py",
   "mimetype": "text/x-python",
   "name": "python",
   "nbconvert_exporter": "python",
   "pygments_lexer": "ipython3",
   "version": "3.8.13"
  }
 },
 "nbformat": 4,
 "nbformat_minor": 5
}
