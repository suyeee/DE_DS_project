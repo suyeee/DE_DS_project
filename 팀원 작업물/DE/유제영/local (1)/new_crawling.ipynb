{
 "cells": [
  {
   "cell_type": "code",
   "execution_count": 1,
   "id": "a39a5071",
   "metadata": {},
   "outputs": [],
   "source": [
    "import pandas as pd\n",
    "import requests, json\n",
    "from datetime import date, timedelta\n",
    "from collections import defaultdict\n",
    "import xml.etree.ElementTree as ET\n",
    "from math import dist"
   ]
  },
  {
   "cell_type": "code",
   "execution_count": 2,
   "id": "a06943ed",
   "metadata": {},
   "outputs": [],
   "source": [
    "point_code = {\n",
    "    '속초' : 90,\n",
    "    '북춘천' : 93,\n",
    "    '철원' : 95,\n",
    "    '동두천' : 98,\n",
    "    '파주' : 99,\n",
    "    '대관령' : 100,\n",
    "    '춘천' : 101,\n",
    "    '백령도' : 102,\n",
    "    '북강릉' : 104,\n",
    "    '강릉' : 105,\n",
    "    '동해' : 106,\n",
    "    '서울' : 108,\n",
    "    '인천' : 112,\n",
    "    '원주' : 114,\n",
    "    '울릉도' : 115,\n",
    "    '홍천' : 212,\n",
    "    '태백' : 216,\n",
    "    '정선군' : 217,\n",
    "    '제천' : 221,\n",
    "    '보은' : 226,\n",
    "    '천안' : 232,\n",
    "    '보령' : 235,\n",
    "    '부여' : 236,\n",
    "    '금산' : 238,\n",
    "    '세종' : 239,\n",
    "    '부안' : 243,\n",
    "    '임실' : 244,\n",
    "    '정읍' : 245,\n",
    "    '남원' : 247,\n",
    "    '장수' : 248,\n",
    "    '수원' : 119,\n",
    "    '영월' : 121,\n",
    "    '충주' : 127,\n",
    "    '서산' : 129,\n",
    "    '울진' : 130,\n",
    "    '청주' : 131,\n",
    "    '대전' : 133,\n",
    "    '추풍령' : 135, '안동' : 136, '상주' : 137, '포항' : 138, '군산' : 140,\n",
    "    '대구' : 143, '전주' : 146, '울산' : 152, '창원': 155, '광주' : 156,\n",
    "    '부산' : 159, '고창군' : 251, '영광군' : 252, '김해시' : 253, '순창군' : 254,\n",
    "    '북창원' : 255, '양산시' : 257, '보성군' : 258, '강진군' : 259, '장흥' : 260,\n",
    "    '해남' : 261, '고흥' : 262, '의령군' : 263, '함양군' : 264, '광양시' : 266,\n",
    "    '진도군' : 268, '봉화' : 271, '영주' : 272, '문경' : 273, '통영' : 162,\n",
    "    '목포' : 165, '여수' : 168, '흑산도' : 169, '완도' : 170, '고창' : 172,\n",
    "    '순천' : 174, '홍성' : 177, '제주' : 184, '고산' : 185, '성산' : 188, '서귀포' : 189,\n",
    "    '진주' : 192, '강화' : 201, '양평' : 202, '이천' : 203, '인제' : 211, '청송군' : 276,\n",
    "    '영덕' : 277, '의성' : 278, '구미' : 279, '영천' : 281, '경주시' : 283, '거창' : 284,\n",
    "    '합천' : 285, '밀양' : 288, '산청' : 289, '거제' : 294, '남해' : 295\n",
    "    \n",
    "}"
   ]
  },
  {
   "cell_type": "code",
   "execution_count": 5,
   "id": "3c8180af",
   "metadata": {},
   "outputs": [
    {
     "data": {
      "text/plain": [
       "[90,\n",
       " 93,\n",
       " 95,\n",
       " 98,\n",
       " 99,\n",
       " 100,\n",
       " 101,\n",
       " 102,\n",
       " 104,\n",
       " 105,\n",
       " 106,\n",
       " 108,\n",
       " 112,\n",
       " 114,\n",
       " 115,\n",
       " 212,\n",
       " 216,\n",
       " 217,\n",
       " 221,\n",
       " 226,\n",
       " 232,\n",
       " 235,\n",
       " 236,\n",
       " 238,\n",
       " 239,\n",
       " 243,\n",
       " 244,\n",
       " 245,\n",
       " 247,\n",
       " 248,\n",
       " 119,\n",
       " 121,\n",
       " 127,\n",
       " 129,\n",
       " 130,\n",
       " 131,\n",
       " 133,\n",
       " 135,\n",
       " 136,\n",
       " 137,\n",
       " 138,\n",
       " 140,\n",
       " 143,\n",
       " 146,\n",
       " 152,\n",
       " 155,\n",
       " 156,\n",
       " 159,\n",
       " 251,\n",
       " 252,\n",
       " 253,\n",
       " 254,\n",
       " 255,\n",
       " 257,\n",
       " 258,\n",
       " 259,\n",
       " 260,\n",
       " 261,\n",
       " 262,\n",
       " 263,\n",
       " 264,\n",
       " 266,\n",
       " 268,\n",
       " 271,\n",
       " 272,\n",
       " 273,\n",
       " 162,\n",
       " 165,\n",
       " 168,\n",
       " 169,\n",
       " 170,\n",
       " 172,\n",
       " 174,\n",
       " 177,\n",
       " 184,\n",
       " 185,\n",
       " 188,\n",
       " 189,\n",
       " 192,\n",
       " 201,\n",
       " 202,\n",
       " 203,\n",
       " 211,\n",
       " 276,\n",
       " 277,\n",
       " 278,\n",
       " 279,\n",
       " 281,\n",
       " 283,\n",
       " 284,\n",
       " 285,\n",
       " 288,\n",
       " 289,\n",
       " 294,\n",
       " 295]"
      ]
     },
     "execution_count": 5,
     "metadata": {},
     "output_type": "execute_result"
    }
   ],
   "source": [
    "points = list(point_code.values())\n",
    "points"
   ]
  },
  {
   "cell_type": "code",
   "execution_count": 6,
   "id": "67de71e9",
   "metadata": {},
   "outputs": [],
   "source": [
    "# 임시 2020년 산불 데이터 추출\n",
    "KEY = 'XFvzJWgUESMIABoVtfrlH/5UAPe0XlfdQL4aWwGW3PRP7nglPl6l5gbtu9YikPPPpECveIjH0YwuXi9ZccGTcA=='\n",
    "url = 'http://apis.data.go.kr/1360000/AsosHourlyInfoService/getWthrDataList'\n",
    "result_a = []\n",
    "date_pair = ('20200424','20200424')\n",
    "for i in points:\n",
    "    \n",
    "    params ={'serviceKey' : 'XFvzJWgUESMIABoVtfrlH/5UAPe0XlfdQL4aWwGW3PRP7nglPl6l5gbtu9YikPPPpECveIjH0YwuXi9ZccGTcA==', 'pageNo' : 1, 'numOfRows' : '999', 'dataType' : 'XML', 'dataCd' : 'ASOS', 'dateCd' : 'HR', 'startDt' : date_pair[0], 'startHh' : '00', 'endDt' : date_pair[1], 'endHh' : '23', 'stnIds' : i }\n",
    "\n",
    "    response = requests.get(url, params=params)\n",
    "    root = ET.fromstring(response.text)\n",
    "    result=[]\n",
    "\n",
    "    for node in root.iter('item'):\n",
    "        rows = defaultdict(list)\n",
    "        for i in node:\n",
    "            rows[i.tag] = i.text\n",
    "        result.append(rows)\n",
    "\n",
    "\n",
    "    for j in result:\n",
    "        sa=dict(j)\n",
    "        result_a.append(sa)\n",
    "\n",
    "            \n",
    "\n",
    "\n",
    "sd = pd.DataFrame(result_a, columns=result_a[0].keys())\n",
    "sd.to_csv('new_sample.csv')"
   ]
  },
  {
   "cell_type": "code",
   "execution_count": 2,
   "id": "6625cd27",
   "metadata": {},
   "outputs": [],
   "source": [
    "pageNo = 3\n",
    "date_pairs = [('20070101','20070430'), ('20071001','20071231'), ('20080101','20080430'), ('20081001','20081231'),\n",
    "             ('20090101','20090430'), ('20091001', '20091231')]\n",
    "point_list = ['90', '105', '106', '216']"
   ]
  },
  {
   "cell_type": "code",
   "execution_count": 13,
   "id": "046be180",
   "metadata": {},
   "outputs": [],
   "source": [
    "KEY = 'XFvzJWgUESMIABoVtfrlH/5UAPe0XlfdQL4aWwGW3PRP7nglPl6l5gbtu9YikPPPpECveIjH0YwuXi9ZccGTcA=='\n",
    "url = 'http://apis.data.go.kr/1360000/AsosHourlyInfoService/getWthrDataList'\n",
    "result_a = []\n",
    "# 지점 먼저 정하고\n",
    "for point in point_list:\n",
    "    \n",
    "    # 날짜 기간 별로\n",
    "    for date_pair in date_pairs:\n",
    "        \n",
    "        # 대략 3페이지에 다 끌어올 수 있음\n",
    "        for i in range(pageNo):\n",
    "\n",
    "            params ={'serviceKey' : 'XFvzJWgUESMIABoVtfrlH/5UAPe0XlfdQL4aWwGW3PRP7nglPl6l5gbtu9YikPPPpECveIjH0YwuXi9ZccGTcA==', 'pageNo' : i+1, 'numOfRows' : '999', 'dataType' : 'XML', 'dataCd' : 'ASOS', 'dateCd' : 'HR', 'startDt' : date_pair[0], 'startHh' : '00', 'endDt' : date_pair[1], 'endHh' : '23', 'stnIds' : point }\n",
    "\n",
    "            response = requests.get(url, params=params)\n",
    "            root = ET.fromstring(response.text)\n",
    "            result=[]\n",
    "\n",
    "            for node in root.iter('item'):\n",
    "                rows = defaultdict(list)\n",
    "                for i in node:\n",
    "                    rows[i.tag] = i.text\n",
    "                result.append(rows)\n",
    "\n",
    "\n",
    "            for j in result:\n",
    "                sa=dict(j)\n",
    "                result_a.append(sa)\n",
    "\n",
    "\n",
    "sd = pd.DataFrame(result_a, columns=result_a[0].keys())\n",
    "sd.to_csv('new_sample.csv')"
   ]
  },
  {
   "cell_type": "code",
   "execution_count": 2,
   "id": "5a4ca526",
   "metadata": {},
   "outputs": [],
   "source": [
    "# 양양은 실효습도 추가 못해서 패스\n",
    "# 셀레니움으로 자동화\n",
    "from selenium import webdriver\n",
    "from selenium.webdriver.chrome.service import Service\n",
    "from webdriver_manager.chrome import ChromeDriverManager\n",
    "from selenium.webdriver.common.by import By\n",
    "\n",
    "from selenium.webdriver.support.ui import WebDriverWait\n",
    "from selenium.webdriver.support import expected_conditions as EC"
   ]
  },
  {
   "cell_type": "code",
   "execution_count": 3,
   "id": "3719bf68",
   "metadata": {},
   "outputs": [],
   "source": [
    "def get_chrome_driver():\n",
    "    # 1. 크롬 옵션 세팅\n",
    "    chrome_options = webdriver.ChromeOptions()\n",
    "    \n",
    "    # 2. driver 생성하기\n",
    "    driver = webdriver.Chrome(\n",
    "        service=Service(ChromeDriverManager().install()), # 가장 많이 바뀐 부분\n",
    "        options=chrome_options\n",
    "    )\n",
    "    \n",
    "    return driver"
   ]
  },
  {
   "cell_type": "code",
   "execution_count": 4,
   "id": "2354abf9",
   "metadata": {},
   "outputs": [
    {
     "name": "stderr",
     "output_type": "stream",
     "text": [
      "\n",
      "\n",
      "====== WebDriver manager ======\n",
      "Current google-chrome version is 103.0.5060\n",
      "Get LATEST chromedriver version for 103.0.5060 google-chrome\n",
      "Trying to download new driver from https://chromedriver.storage.googleapis.com/103.0.5060.53/chromedriver_win32.zip\n",
      "Driver has been saved in cache [C:\\Users\\yujeyeong\\.wdm\\drivers\\chromedriver\\win32\\103.0.5060.53]\n"
     ]
    }
   ],
   "source": [
    "driver = get_chrome_driver()"
   ]
  },
  {
   "cell_type": "code",
   "execution_count": 5,
   "id": "b5798483",
   "metadata": {},
   "outputs": [],
   "source": [
    "driver.get(\"https://data.kma.go.kr/climate/ehum/selectEhumChart.do?pgmNo=110\")\n",
    "\n",
    "from time import sleep\n",
    "wait = WebDriverWait(driver, 100)"
   ]
  },
  {
   "cell_type": "code",
   "execution_count": 6,
   "id": "74ae9559",
   "metadata": {},
   "outputs": [],
   "source": [
    "sleep(2)\n",
    "# articles = driver.find_element(\n",
    "#     By.CSS_SELECTOR,\n",
    "#     \"#txtStnNm\"\n",
    "# ).click()\n",
    "WebDriverWait(driver, 20).until(EC.element_to_be_clickable((By.CSS_SELECTOR, \"#txtStnNm\"))).click()\n"
   ]
  },
  {
   "cell_type": "code",
   "execution_count": 7,
   "id": "e940f187",
   "metadata": {},
   "outputs": [],
   "source": [
    "sleep(2)\n",
    "articles = driver.find_element(\n",
    "    By.CSS_SELECTOR,\n",
    "    \"#ztree_2_check\"\n",
    ").click()\n"
   ]
  },
  {
   "cell_type": "code",
   "execution_count": null,
   "id": "b85d1f3a",
   "metadata": {},
   "outputs": [],
   "source": []
  },
  {
   "cell_type": "code",
   "execution_count": null,
   "id": "ab93d0ce",
   "metadata": {},
   "outputs": [],
   "source": []
  },
  {
   "cell_type": "code",
   "execution_count": 8,
   "id": "42ea0b25",
   "metadata": {},
   "outputs": [],
   "source": [
    "\n",
    "articles = driver.find_element(\n",
    "    By.CSS_SELECTOR,\n",
    "    \"#sidetreecontrol > a\"\n",
    ").click()\n",
    "\n"
   ]
  },
  {
   "cell_type": "code",
   "execution_count": 10,
   "id": "39b9d817",
   "metadata": {},
   "outputs": [
    {
     "data": {
      "text/plain": [
       "('2005', '2006', '2007', '2008', '2009', '2010', '2011')"
      ]
     },
     "execution_count": 10,
     "metadata": {},
     "output_type": "execute_result"
    }
   ],
   "source": [
    "# articles = driver.find_element(\n",
    "#     By.CSS_SELECTOR,\n",
    "#     \"#startDt\"\n",
    "# ).clear()\n",
    "# articles = driver.find_element(\n",
    "#     By.CSS_SELECTOR,\n",
    "#     \"#startDt\"\n",
    "# ).send_keys(\"20070101\")\n",
    "\"2005\",\"2006\",\"2007\",\"2008\",\"2009\",\"2010\",\"2011\""
   ]
  },
  {
   "cell_type": "code",
   "execution_count": 9,
   "id": "a547f4d8",
   "metadata": {},
   "outputs": [],
   "source": [
    "for year in [\"2004\",\"2005\",\"2006\",\"2007\",\"2008\",\"2009\",\"2010\",\"2011\"]:\n",
    "    for month in [\"01\", \"02\", \"03\", \"04\",\"05\",\"06\",\"07\",\"08\",\"09\", \"10\", \"11\", \"12\"]:\n",
    "        if month == \"02\":\n",
    "            for day in range(1,29):\n",
    "                day_text=day\n",
    "                if day < 10:\n",
    "                    day_text = \"0\"+str(day)\n",
    "                else:\n",
    "                    day_text = str(day)\n",
    "                driver.find_element(\n",
    "                    By.CSS_SELECTOR,\n",
    "                    \"#startDt\"\n",
    "                ).clear()\n",
    "                driver.find_element(\n",
    "                    By.CSS_SELECTOR,\n",
    "                    \"#startDt\"\n",
    "                ).send_keys(year+month+day_text)\n",
    "                \n",
    "                \n",
    "                driver.find_element(\n",
    "                    By.CSS_SELECTOR,\n",
    "                    \"#wrap_content > div:nth-child(4) > div.hd_itm > div > a.btn_file.DOWNLOAD_BTN\"\n",
    "                ).click()\n",
    "                \n",
    "                \n",
    "        elif ((month == \"04\" or month == \"06\") or month == \"09\") or month ==\"11\":\n",
    "            for day in range(1,31):\n",
    "                day_text=day\n",
    "                if day < 10:\n",
    "                    day_text = \"0\"+str(day)\n",
    "                else:\n",
    "                    day_text = str(day)\n",
    "                driver.find_element(\n",
    "                    By.CSS_SELECTOR,\n",
    "                    \"#startDt\"\n",
    "                ).clear()\n",
    "                driver.find_element(\n",
    "                    By.CSS_SELECTOR,\n",
    "                    \"#startDt\"\n",
    "                ).send_keys(year+month+day_text)\n",
    "                \n",
    "                \n",
    "                driver.find_element(\n",
    "                    By.CSS_SELECTOR,\n",
    "                    \"#wrap_content > div:nth-child(4) > div.hd_itm > div > a.btn_file.DOWNLOAD_BTN\"\n",
    "                ).click()\n",
    "                \n",
    "        else:\n",
    "            for day in range(1,32):\n",
    "                day_text=day\n",
    "                if day < 10:\n",
    "                    day_text = \"0\"+str(day)\n",
    "                else:\n",
    "                    day_text = str(day)\n",
    "                driver.find_element(\n",
    "                    By.CSS_SELECTOR,\n",
    "                    \"#startDt\"\n",
    "                ).clear()\n",
    "                driver.find_element(\n",
    "                    By.CSS_SELECTOR,\n",
    "                    \"#startDt\"\n",
    "                ).send_keys(year+month+day_text)\n",
    "                \n",
    "                \n",
    "                \n",
    "                \n",
    "                driver.find_element(\n",
    "                    By.CSS_SELECTOR,\n",
    "                    \"#wrap_content > div:nth-child(4) > div.hd_itm > div > a.btn_file.DOWNLOAD_BTN\"\n",
    "                ).click()\n",
    "                "
   ]
  },
  {
   "cell_type": "code",
   "execution_count": 96,
   "id": "7593e1aa",
   "metadata": {},
   "outputs": [],
   "source": [
    "# articles = driver.find_element(\n",
    "#     By.CSS_SELECTOR,\n",
    "#     \"#wrap_content > div:nth-child(4) > div.hd_itm > div > a.btn_file.DOWNLOAD_BTN\"\n",
    "# ).click()"
   ]
  },
  {
   "cell_type": "code",
   "execution_count": 10,
   "id": "437a5f4c",
   "metadata": {},
   "outputs": [],
   "source": [
    "driver.quit()"
   ]
  },
  {
   "cell_type": "code",
   "execution_count": 11,
   "id": "53be5fe5",
   "metadata": {},
   "outputs": [],
   "source": [
    "from datetime import date, timedelta, time, datetime"
   ]
  },
  {
   "cell_type": "code",
   "execution_count": 12,
   "id": "4065ea91",
   "metadata": {},
   "outputs": [
    {
     "data": {
      "text/plain": [
       "'2011-12-31 00:00'"
      ]
     },
     "execution_count": 12,
     "metadata": {},
     "output_type": "execute_result"
    }
   ],
   "source": [
    "daysw=datetime.strptime('2011-12-31 01:00','%Y-%m-%d %H:%M')- timedelta(hours=1)\n",
    "daysw.strftime('%Y-%m-%d %H:%M')"
   ]
  },
  {
   "cell_type": "code",
   "execution_count": null,
   "id": "54eecfc0",
   "metadata": {},
   "outputs": [],
   "source": []
  }
 ],
 "metadata": {
  "kernelspec": {
   "display_name": "Python 3 (ipykernel)",
   "language": "python",
   "name": "python3"
  },
  "language_info": {
   "codemirror_mode": {
    "name": "ipython",
    "version": 3
   },
   "file_extension": ".py",
   "mimetype": "text/x-python",
   "name": "python",
   "nbconvert_exporter": "python",
   "pygments_lexer": "ipython3",
   "version": "3.8.13"
  }
 },
 "nbformat": 4,
 "nbformat_minor": 5
}
