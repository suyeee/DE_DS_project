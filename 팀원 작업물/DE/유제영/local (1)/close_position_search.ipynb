{
 "cells": [
  {
   "cell_type": "code",
   "execution_count": 1,
   "id": "343a1120",
   "metadata": {},
   "outputs": [],
   "source": [
    "import requests, json"
   ]
  },
  {
   "cell_type": "code",
   "execution_count": 13,
   "id": "9162d118",
   "metadata": {},
   "outputs": [],
   "source": [
    "KAKAO_API_KEY = \"da33e829f9b3cce36b4dd72eac9312d6\"\n",
    "KAKAO_MAP_URL = \"https://dapi.kakao.com/v2/local/search/address.json?query=\"+\"경남 창원 마산회원\""
   ]
  },
  {
   "cell_type": "code",
   "execution_count": 14,
   "id": "3232cdda",
   "metadata": {},
   "outputs": [
    {
     "data": {
      "text/plain": [
       "{'lat': '35.2208515261931', 'lng': '128.579713884234'}"
      ]
     },
     "execution_count": 14,
     "metadata": {},
     "output_type": "execute_result"
    }
   ],
   "source": [
    "headers = {\n",
    "    \"Authorization\" : \"KakaoAK {}\".format(KAKAO_API_KEY)\n",
    "}\n",
    "returned_json=json.loads(str(requests.get(KAKAO_MAP_URL,headers=headers).text))\n",
    "address = returned_json['documents'][0]['address']\n",
    "crd = {\"lat\" : str(address['y']), \"lng\" : str(address['x'])}\n",
    "address_name = address['address_name']\n",
    "crd"
   ]
  },
  {
   "cell_type": "code",
   "execution_count": 4,
   "id": "88fe0896",
   "metadata": {},
   "outputs": [
    {
     "data": {
      "text/plain": [
       "'대구 북구'"
      ]
     },
     "execution_count": 4,
     "metadata": {},
     "output_type": "execute_result"
    }
   ],
   "source": [
    "address_name"
   ]
  },
  {
   "cell_type": "code",
   "execution_count": null,
   "id": "124ff6b7",
   "metadata": {},
   "outputs": [],
   "source": []
  }
 ],
 "metadata": {
  "kernelspec": {
   "display_name": "Python 3 (ipykernel)",
   "language": "python",
   "name": "python3"
  },
  "language_info": {
   "codemirror_mode": {
    "name": "ipython",
    "version": 3
   },
   "file_extension": ".py",
   "mimetype": "text/x-python",
   "name": "python",
   "nbconvert_exporter": "python",
   "pygments_lexer": "ipython3",
   "version": "3.8.13"
  }
 },
 "nbformat": 4,
 "nbformat_minor": 5
}
