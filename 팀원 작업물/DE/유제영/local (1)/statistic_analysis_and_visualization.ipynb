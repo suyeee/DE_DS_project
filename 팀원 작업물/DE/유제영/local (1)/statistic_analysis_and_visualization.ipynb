{
 "cells": [
  {
   "cell_type": "markdown",
   "id": "8e7488e8",
   "metadata": {},
   "source": [
    "# 산불 발생 데이터 분석 및 시각화\n",
    "## 산불이 발생 했을 때의 수치형 데이터들의 분석"
   ]
  },
  {
   "cell_type": "code",
   "execution_count": 1,
   "id": "e4eb5894",
   "metadata": {},
   "outputs": [
    {
     "data": {
      "text/plain": [
       "'%.3f'"
      ]
     },
     "execution_count": 1,
     "metadata": {},
     "output_type": "execute_result"
    }
   ],
   "source": [
    "import pandas as pd\n",
    "import numpy as np\n",
    "%precision 3"
   ]
  },
  {
   "cell_type": "markdown",
   "id": "37f555f5",
   "metadata": {},
   "source": [
    "## 먼저 각각 분리되어있던 최종 학습 데이터셋 통합"
   ]
  },
  {
   "cell_type": "code",
   "execution_count": 2,
   "id": "f59afe0a",
   "metadata": {},
   "outputs": [],
   "source": [
    "df = pd.read_csv('wildfire_his.csv')\n",
    "part_1 = pd.read_csv('final_training_data_2000_2003.csv')\n",
    "part_2 = pd.read_csv('final_training_data_2004_2011.csv')\n",
    "part_3 = pd.read_csv('2012-2014,학습데이터.csv')"
   ]
  },
  {
   "cell_type": "code",
   "execution_count": 3,
   "id": "ac1b8c3e",
   "metadata": {},
   "outputs": [],
   "source": [
    "# 양적 변수 Quantitative variable\n",
    "part_1 = part_1[['일시','지점명','기온','강수량','풍속','풍향','습도','실효습도','label']]"
   ]
  },
  {
   "cell_type": "code",
   "execution_count": 4,
   "id": "a465e269",
   "metadata": {},
   "outputs": [
    {
     "data": {
      "text/html": [
       "<div>\n",
       "<style scoped>\n",
       "    .dataframe tbody tr th:only-of-type {\n",
       "        vertical-align: middle;\n",
       "    }\n",
       "\n",
       "    .dataframe tbody tr th {\n",
       "        vertical-align: top;\n",
       "    }\n",
       "\n",
       "    .dataframe thead th {\n",
       "        text-align: right;\n",
       "    }\n",
       "</style>\n",
       "<table border=\"1\" class=\"dataframe\">\n",
       "  <thead>\n",
       "    <tr style=\"text-align: right;\">\n",
       "      <th></th>\n",
       "      <th>일시</th>\n",
       "      <th>지점명</th>\n",
       "      <th>기온</th>\n",
       "      <th>강수량</th>\n",
       "      <th>풍속</th>\n",
       "      <th>풍향</th>\n",
       "      <th>습도</th>\n",
       "      <th>실효습도</th>\n",
       "      <th>label</th>\n",
       "    </tr>\n",
       "  </thead>\n",
       "  <tbody>\n",
       "    <tr>\n",
       "      <th>0</th>\n",
       "      <td>2004-01-01 00:00</td>\n",
       "      <td>속초</td>\n",
       "      <td>4.9</td>\n",
       "      <td>NaN</td>\n",
       "      <td>6.3</td>\n",
       "      <td>230.0</td>\n",
       "      <td>39.0</td>\n",
       "      <td>28.25</td>\n",
       "      <td>0</td>\n",
       "    </tr>\n",
       "    <tr>\n",
       "      <th>1</th>\n",
       "      <td>2004-01-01 01:00</td>\n",
       "      <td>속초</td>\n",
       "      <td>4.9</td>\n",
       "      <td>NaN</td>\n",
       "      <td>4.8</td>\n",
       "      <td>250.0</td>\n",
       "      <td>36.0</td>\n",
       "      <td>27.70</td>\n",
       "      <td>0</td>\n",
       "    </tr>\n",
       "    <tr>\n",
       "      <th>2</th>\n",
       "      <td>2004-01-01 02:00</td>\n",
       "      <td>속초</td>\n",
       "      <td>4.2</td>\n",
       "      <td>NaN</td>\n",
       "      <td>3.0</td>\n",
       "      <td>250.0</td>\n",
       "      <td>35.0</td>\n",
       "      <td>28.77</td>\n",
       "      <td>0</td>\n",
       "    </tr>\n",
       "    <tr>\n",
       "      <th>3</th>\n",
       "      <td>2004-01-01 03:00</td>\n",
       "      <td>속초</td>\n",
       "      <td>3.3</td>\n",
       "      <td>NaN</td>\n",
       "      <td>2.4</td>\n",
       "      <td>270.0</td>\n",
       "      <td>40.0</td>\n",
       "      <td>30.13</td>\n",
       "      <td>0</td>\n",
       "    </tr>\n",
       "    <tr>\n",
       "      <th>4</th>\n",
       "      <td>2004-01-01 04:00</td>\n",
       "      <td>속초</td>\n",
       "      <td>4.1</td>\n",
       "      <td>NaN</td>\n",
       "      <td>2.8</td>\n",
       "      <td>270.0</td>\n",
       "      <td>36.0</td>\n",
       "      <td>29.13</td>\n",
       "      <td>0</td>\n",
       "    </tr>\n",
       "    <tr>\n",
       "      <th>...</th>\n",
       "      <td>...</td>\n",
       "      <td>...</td>\n",
       "      <td>...</td>\n",
       "      <td>...</td>\n",
       "      <td>...</td>\n",
       "      <td>...</td>\n",
       "      <td>...</td>\n",
       "      <td>...</td>\n",
       "      <td>...</td>\n",
       "    </tr>\n",
       "    <tr>\n",
       "      <th>5493089</th>\n",
       "      <td>2011-12-31 19:00</td>\n",
       "      <td>남해</td>\n",
       "      <td>3.7</td>\n",
       "      <td>NaN</td>\n",
       "      <td>1.3</td>\n",
       "      <td>270.0</td>\n",
       "      <td>46.0</td>\n",
       "      <td>36.68</td>\n",
       "      <td>0</td>\n",
       "    </tr>\n",
       "    <tr>\n",
       "      <th>5493090</th>\n",
       "      <td>2011-12-31 20:00</td>\n",
       "      <td>남해</td>\n",
       "      <td>1.6</td>\n",
       "      <td>NaN</td>\n",
       "      <td>0.5</td>\n",
       "      <td>270.0</td>\n",
       "      <td>54.0</td>\n",
       "      <td>42.43</td>\n",
       "      <td>0</td>\n",
       "    </tr>\n",
       "    <tr>\n",
       "      <th>5493091</th>\n",
       "      <td>2011-12-31 21:00</td>\n",
       "      <td>남해</td>\n",
       "      <td>0.8</td>\n",
       "      <td>NaN</td>\n",
       "      <td>0.7</td>\n",
       "      <td>250.0</td>\n",
       "      <td>57.0</td>\n",
       "      <td>44.30</td>\n",
       "      <td>0</td>\n",
       "    </tr>\n",
       "    <tr>\n",
       "      <th>5493092</th>\n",
       "      <td>2011-12-31 22:00</td>\n",
       "      <td>남해</td>\n",
       "      <td>0.6</td>\n",
       "      <td>NaN</td>\n",
       "      <td>0.7</td>\n",
       "      <td>230.0</td>\n",
       "      <td>60.0</td>\n",
       "      <td>43.01</td>\n",
       "      <td>0</td>\n",
       "    </tr>\n",
       "    <tr>\n",
       "      <th>5493093</th>\n",
       "      <td>2011-12-31 23:00</td>\n",
       "      <td>남해</td>\n",
       "      <td>0.4</td>\n",
       "      <td>NaN</td>\n",
       "      <td>0.8</td>\n",
       "      <td>250.0</td>\n",
       "      <td>63.0</td>\n",
       "      <td>46.34</td>\n",
       "      <td>0</td>\n",
       "    </tr>\n",
       "  </tbody>\n",
       "</table>\n",
       "<p>5493094 rows × 9 columns</p>\n",
       "</div>"
      ],
      "text/plain": [
       "                       일시 지점명   기온  강수량   풍속     풍향    습도   실효습도  label\n",
       "0        2004-01-01 00:00  속초  4.9  NaN  6.3  230.0  39.0  28.25      0\n",
       "1        2004-01-01 01:00  속초  4.9  NaN  4.8  250.0  36.0  27.70      0\n",
       "2        2004-01-01 02:00  속초  4.2  NaN  3.0  250.0  35.0  28.77      0\n",
       "3        2004-01-01 03:00  속초  3.3  NaN  2.4  270.0  40.0  30.13      0\n",
       "4        2004-01-01 04:00  속초  4.1  NaN  2.8  270.0  36.0  29.13      0\n",
       "...                   ...  ..  ...  ...  ...    ...   ...    ...    ...\n",
       "5493089  2011-12-31 19:00  남해  3.7  NaN  1.3  270.0  46.0  36.68      0\n",
       "5493090  2011-12-31 20:00  남해  1.6  NaN  0.5  270.0  54.0  42.43      0\n",
       "5493091  2011-12-31 21:00  남해  0.8  NaN  0.7  250.0  57.0  44.30      0\n",
       "5493092  2011-12-31 22:00  남해  0.6  NaN  0.7  230.0  60.0  43.01      0\n",
       "5493093  2011-12-31 23:00  남해  0.4  NaN  0.8  250.0  63.0  46.34      0\n",
       "\n",
       "[5493094 rows x 9 columns]"
      ]
     },
     "execution_count": 4,
     "metadata": {},
     "output_type": "execute_result"
    }
   ],
   "source": [
    "part_2 = part_2[['tm','stnNm','ta','rn','ws','wd','hm','실효습도','label']]\n",
    "part_2.columns = ['일시','지점명','기온','강수량','풍속','풍향','습도','실효습도','label']\n",
    "part_2['일시'] = part_2['일시'].map(lambda x:f'{str(x)[0:4]}-{str(x)[4:6]}-{str(x)[6:8]} {str(x)[8:10]}:{str(x)[10:]}')\n",
    "part_2"
   ]
  },
  {
   "cell_type": "code",
   "execution_count": 5,
   "id": "ce83e7b6",
   "metadata": {},
   "outputs": [
    {
     "data": {
      "text/html": [
       "<div>\n",
       "<style scoped>\n",
       "    .dataframe tbody tr th:only-of-type {\n",
       "        vertical-align: middle;\n",
       "    }\n",
       "\n",
       "    .dataframe tbody tr th {\n",
       "        vertical-align: top;\n",
       "    }\n",
       "\n",
       "    .dataframe thead th {\n",
       "        text-align: right;\n",
       "    }\n",
       "</style>\n",
       "<table border=\"1\" class=\"dataframe\">\n",
       "  <thead>\n",
       "    <tr style=\"text-align: right;\">\n",
       "      <th></th>\n",
       "      <th>일시</th>\n",
       "      <th>지점명</th>\n",
       "      <th>기온</th>\n",
       "      <th>강수량</th>\n",
       "      <th>풍속</th>\n",
       "      <th>풍향</th>\n",
       "      <th>습도</th>\n",
       "      <th>실효습도</th>\n",
       "      <th>label</th>\n",
       "    </tr>\n",
       "  </thead>\n",
       "  <tbody>\n",
       "    <tr>\n",
       "      <th>0</th>\n",
       "      <td>2000-01-01 03:00</td>\n",
       "      <td>서울</td>\n",
       "      <td>-0.6</td>\n",
       "      <td>0.0</td>\n",
       "      <td>4.6</td>\n",
       "      <td>142.7</td>\n",
       "      <td>0.0</td>\n",
       "      <td>62.70</td>\n",
       "      <td>0</td>\n",
       "    </tr>\n",
       "    <tr>\n",
       "      <th>1</th>\n",
       "      <td>2000-01-01 03:00</td>\n",
       "      <td>서울</td>\n",
       "      <td>2.2</td>\n",
       "      <td>0.0</td>\n",
       "      <td>1.2</td>\n",
       "      <td>84.6</td>\n",
       "      <td>0.0</td>\n",
       "      <td>62.70</td>\n",
       "      <td>0</td>\n",
       "    </tr>\n",
       "    <tr>\n",
       "      <th>2</th>\n",
       "      <td>2000-01-01 03:00</td>\n",
       "      <td>서울</td>\n",
       "      <td>2.6</td>\n",
       "      <td>0.0</td>\n",
       "      <td>0.2</td>\n",
       "      <td>0.0</td>\n",
       "      <td>0.0</td>\n",
       "      <td>62.70</td>\n",
       "      <td>0</td>\n",
       "    </tr>\n",
       "    <tr>\n",
       "      <th>3</th>\n",
       "      <td>2000-01-01 03:00</td>\n",
       "      <td>서울</td>\n",
       "      <td>0.5</td>\n",
       "      <td>0.0</td>\n",
       "      <td>0.5</td>\n",
       "      <td>68.9</td>\n",
       "      <td>0.0</td>\n",
       "      <td>62.70</td>\n",
       "      <td>0</td>\n",
       "    </tr>\n",
       "    <tr>\n",
       "      <th>4</th>\n",
       "      <td>2000-01-01 03:00</td>\n",
       "      <td>서울</td>\n",
       "      <td>2.7</td>\n",
       "      <td>0.0</td>\n",
       "      <td>0.6</td>\n",
       "      <td>33.3</td>\n",
       "      <td>0.0</td>\n",
       "      <td>62.70</td>\n",
       "      <td>0</td>\n",
       "    </tr>\n",
       "    <tr>\n",
       "      <th>...</th>\n",
       "      <td>...</td>\n",
       "      <td>...</td>\n",
       "      <td>...</td>\n",
       "      <td>...</td>\n",
       "      <td>...</td>\n",
       "      <td>...</td>\n",
       "      <td>...</td>\n",
       "      <td>...</td>\n",
       "      <td>...</td>\n",
       "    </tr>\n",
       "    <tr>\n",
       "      <th>1967383</th>\n",
       "      <td>2014-06-19 19:00</td>\n",
       "      <td>남해</td>\n",
       "      <td>24.5</td>\n",
       "      <td>NaN</td>\n",
       "      <td>0.9</td>\n",
       "      <td>270.0</td>\n",
       "      <td>67.0</td>\n",
       "      <td>54.27</td>\n",
       "      <td>0</td>\n",
       "    </tr>\n",
       "    <tr>\n",
       "      <th>1967384</th>\n",
       "      <td>2014-06-19 20:00</td>\n",
       "      <td>남해</td>\n",
       "      <td>22.3</td>\n",
       "      <td>NaN</td>\n",
       "      <td>0.9</td>\n",
       "      <td>250.0</td>\n",
       "      <td>79.0</td>\n",
       "      <td>61.35</td>\n",
       "      <td>0</td>\n",
       "    </tr>\n",
       "    <tr>\n",
       "      <th>1967385</th>\n",
       "      <td>2014-06-19 21:00</td>\n",
       "      <td>남해</td>\n",
       "      <td>21.5</td>\n",
       "      <td>NaN</td>\n",
       "      <td>0.7</td>\n",
       "      <td>250.0</td>\n",
       "      <td>78.0</td>\n",
       "      <td>64.00</td>\n",
       "      <td>0</td>\n",
       "    </tr>\n",
       "    <tr>\n",
       "      <th>1967386</th>\n",
       "      <td>2014-06-19 22:00</td>\n",
       "      <td>남해</td>\n",
       "      <td>21.5</td>\n",
       "      <td>NaN</td>\n",
       "      <td>1.2</td>\n",
       "      <td>250.0</td>\n",
       "      <td>79.0</td>\n",
       "      <td>64.21</td>\n",
       "      <td>0</td>\n",
       "    </tr>\n",
       "    <tr>\n",
       "      <th>1967387</th>\n",
       "      <td>2014-06-19 23:00</td>\n",
       "      <td>남해</td>\n",
       "      <td>20.8</td>\n",
       "      <td>NaN</td>\n",
       "      <td>0.5</td>\n",
       "      <td>250.0</td>\n",
       "      <td>84.0</td>\n",
       "      <td>66.57</td>\n",
       "      <td>0</td>\n",
       "    </tr>\n",
       "  </tbody>\n",
       "</table>\n",
       "<p>20484844 rows × 9 columns</p>\n",
       "</div>"
      ],
      "text/plain": [
       "                       일시 지점명    기온  강수량   풍속     풍향    습도   실효습도  label\n",
       "0        2000-01-01 03:00  서울  -0.6  0.0  4.6  142.7   0.0  62.70      0\n",
       "1        2000-01-01 03:00  서울   2.2  0.0  1.2   84.6   0.0  62.70      0\n",
       "2        2000-01-01 03:00  서울   2.6  0.0  0.2    0.0   0.0  62.70      0\n",
       "3        2000-01-01 03:00  서울   0.5  0.0  0.5   68.9   0.0  62.70      0\n",
       "4        2000-01-01 03:00  서울   2.7  0.0  0.6   33.3   0.0  62.70      0\n",
       "...                   ...  ..   ...  ...  ...    ...   ...    ...    ...\n",
       "1967383  2014-06-19 19:00  남해  24.5  NaN  0.9  270.0  67.0  54.27      0\n",
       "1967384  2014-06-19 20:00  남해  22.3  NaN  0.9  250.0  79.0  61.35      0\n",
       "1967385  2014-06-19 21:00  남해  21.5  NaN  0.7  250.0  78.0  64.00      0\n",
       "1967386  2014-06-19 22:00  남해  21.5  NaN  1.2  250.0  79.0  64.21      0\n",
       "1967387  2014-06-19 23:00  남해  20.8  NaN  0.5  250.0  84.0  66.57      0\n",
       "\n",
       "[20484844 rows x 9 columns]"
      ]
     },
     "execution_count": 5,
     "metadata": {},
     "output_type": "execute_result"
    }
   ],
   "source": [
    "combined_parts = pd.concat([part_1, part_2, part_3])\n",
    "combined_parts"
   ]
  },
  {
   "cell_type": "code",
   "execution_count": 6,
   "id": "3b77a2cc",
   "metadata": {},
   "outputs": [],
   "source": [
    "combined_parts.to_csv('training_data_final.csv')"
   ]
  },
  {
   "cell_type": "code",
   "execution_count": 2,
   "id": "5220381f",
   "metadata": {},
   "outputs": [],
   "source": [
    "combined_parts = pd.read_csv('training_data_final.csv')\n"
   ]
  },
  {
   "cell_type": "markdown",
   "id": "206d8cc6",
   "metadata": {},
   "source": [
    "## Two-Sample problem : 독립비교 t 검정(independent t-test)\n",
    "\n",
    "1. Null Hypothesis : weather conditions don't affect wildfire occurence\n",
    "2. Alternative Hypothesis : weather conditions affect wildfire occurence\n",
    "\n",
    "- compared variables\n",
    "    - temperature\n",
    "    - amount of precipitation\n",
    "    - wind speed\n",
    "    - relative humidity\n",
    "    - effective humidity\n",
    "    \n",
    "* ***wind direction is not quantitative variable***"
   ]
  },
  {
   "cell_type": "code",
   "execution_count": 3,
   "id": "ca0f9b81",
   "metadata": {},
   "outputs": [],
   "source": [
    "from scipy import stats\n",
    "import seaborn as sns\n",
    "import matplotlib.pyplot as plt\n",
    "from scipy.stats import ks_2samp\n",
    "plt.rcParams['font.family'] = 'NanumGothic'"
   ]
  },
  {
   "cell_type": "markdown",
   "id": "92475c35",
   "metadata": {},
   "source": [
    "### 기온 기술통계"
   ]
  },
  {
   "cell_type": "code",
   "execution_count": 4,
   "id": "5edfe852",
   "metadata": {},
   "outputs": [
    {
     "data": {
      "text/html": [
       "<div>\n",
       "<style scoped>\n",
       "    .dataframe tbody tr th:only-of-type {\n",
       "        vertical-align: middle;\n",
       "    }\n",
       "\n",
       "    .dataframe tbody tr th {\n",
       "        vertical-align: top;\n",
       "    }\n",
       "\n",
       "    .dataframe thead th {\n",
       "        text-align: right;\n",
       "    }\n",
       "</style>\n",
       "<table border=\"1\" class=\"dataframe\">\n",
       "  <thead>\n",
       "    <tr style=\"text-align: right;\">\n",
       "      <th></th>\n",
       "      <th>label</th>\n",
       "      <th>기온</th>\n",
       "    </tr>\n",
       "  </thead>\n",
       "  <tbody>\n",
       "    <tr>\n",
       "      <th>count</th>\n",
       "      <td>2.043904e+07</td>\n",
       "      <td>2.043904e+07</td>\n",
       "    </tr>\n",
       "    <tr>\n",
       "      <th>mean</th>\n",
       "      <td>9.722569e-04</td>\n",
       "      <td>1.238964e+01</td>\n",
       "    </tr>\n",
       "    <tr>\n",
       "      <th>std</th>\n",
       "      <td>3.116587e-02</td>\n",
       "      <td>1.031035e+01</td>\n",
       "    </tr>\n",
       "    <tr>\n",
       "      <th>min</th>\n",
       "      <td>0.000000e+00</td>\n",
       "      <td>-3.270000e+01</td>\n",
       "    </tr>\n",
       "    <tr>\n",
       "      <th>25%</th>\n",
       "      <td>0.000000e+00</td>\n",
       "      <td>4.100000e+00</td>\n",
       "    </tr>\n",
       "    <tr>\n",
       "      <th>50%</th>\n",
       "      <td>0.000000e+00</td>\n",
       "      <td>1.320000e+01</td>\n",
       "    </tr>\n",
       "    <tr>\n",
       "      <th>75%</th>\n",
       "      <td>0.000000e+00</td>\n",
       "      <td>2.100000e+01</td>\n",
       "    </tr>\n",
       "    <tr>\n",
       "      <th>max</th>\n",
       "      <td>1.000000e+00</td>\n",
       "      <td>2.690000e+02</td>\n",
       "    </tr>\n",
       "  </tbody>\n",
       "</table>\n",
       "</div>"
      ],
      "text/plain": [
       "              label            기온\n",
       "count  2.043904e+07  2.043904e+07\n",
       "mean   9.722569e-04  1.238964e+01\n",
       "std    3.116587e-02  1.031035e+01\n",
       "min    0.000000e+00 -3.270000e+01\n",
       "25%    0.000000e+00  4.100000e+00\n",
       "50%    0.000000e+00  1.320000e+01\n",
       "75%    0.000000e+00  2.100000e+01\n",
       "max    1.000000e+00  2.690000e+02"
      ]
     },
     "execution_count": 4,
     "metadata": {},
     "output_type": "execute_result"
    }
   ],
   "source": [
    "\n",
    "\n",
    "# temperature\n",
    "# delete blank row in dataframe\n",
    "# decimal point set until 3\n",
    "df_temperature = combined_parts.dropna(subset=['기온'])\n",
    "df_des = df_temperature[['label','기온']]\n",
    "df_des.describe()"
   ]
  },
  {
   "cell_type": "markdown",
   "id": "c24c7df7",
   "metadata": {},
   "source": [
    "### boxplot(기온)"
   ]
  },
  {
   "cell_type": "code",
   "execution_count": 5,
   "id": "279fc567",
   "metadata": {},
   "outputs": [
    {
     "data": {
      "text/plain": [
       "<AxesSubplot:xlabel='label', ylabel='기온'>"
      ]
     },
     "execution_count": 5,
     "metadata": {},
     "output_type": "execute_result"
    },
    {
     "data": {
      "image/png": "[encoded data removed]",
      "text/plain": [
       "<Figure size 432x288 with 1 Axes>"
      ]
     },
     "metadata": {
      "needs_background": "light"
     },
     "output_type": "display_data"
    }
   ],
   "source": [
    "sns.boxplot(x='label', y='기온', hue='label', data = df_temperature, palette = 'Set3')\n"
   ]
  },
  {
   "cell_type": "markdown",
   "id": "9a48b8ba",
   "metadata": {},
   "source": [
    "### 정규성 확인\n",
    "\n",
    "- Shapiro-Wilk test와 Kolmogorov-Smirnov test\n",
    "- 표본의 개수가 2000개 이상이므로, Kolmogorov-Smirnov test 진행"
   ]
  },
  {
   "cell_type": "code",
   "execution_count": 6,
   "id": "1c5a5bca",
   "metadata": {},
   "outputs": [],
   "source": [
    "np.random.seed(12345678)\n",
    "x = np.random.normal(0, 1, 1000)"
   ]
  },
  {
   "cell_type": "code",
   "execution_count": 7,
   "id": "40356908",
   "metadata": {},
   "outputs": [
    {
     "data": {
      "text/plain": [
       "KstestResult(statistic=0.7925461940911408, pvalue=0.0)"
      ]
     },
     "execution_count": 7,
     "metadata": {},
     "output_type": "execute_result"
    }
   ],
   "source": [
    "ks_2samp(df_des[df_des['label']==0]['기온'], x)"
   ]
  },
  {
   "cell_type": "code",
   "execution_count": 8,
   "id": "380284fe",
   "metadata": {},
   "outputs": [
    {
     "data": {
      "text/plain": [
       "KstestResult(statistic=0.8919404186795491, pvalue=0.0)"
      ]
     },
     "execution_count": 8,
     "metadata": {},
     "output_type": "execute_result"
    }
   ],
   "source": [
    "ks_2samp(df_des[df_des['label']==1]['기온'], x)"
   ]
  },
  {
   "cell_type": "markdown",
   "id": "55baedaa",
   "metadata": {},
   "source": [
    "- p-value가 유의수준에 도달하지 않기 때문에 해당 표본의 모집단은 정규성을 띄지 않는다\n",
    "- 따라서 Mann-Whitny rank test 진행"
   ]
  },
  {
   "cell_type": "code",
   "execution_count": 9,
   "id": "571f26af",
   "metadata": {},
   "outputs": [
    {
     "data": {
      "text/plain": [
       "(209663760536.500, 0.000)"
      ]
     },
     "execution_count": 9,
     "metadata": {},
     "output_type": "execute_result"
    }
   ],
   "source": [
    "u, p = stats.mannwhitneyu(df_temperature[df_temperature['label']==1]['기온'], df_temperature[df_temperature['label']==0]['기온'],alternative='two-sided')\n",
    "u, p"
   ]
  },
  {
   "cell_type": "markdown",
   "id": "eaf3fb75",
   "metadata": {},
   "source": [
    "***산불 발생 유무에 따른 기온의 중앙값에 대해 차이가 유의수준 .005 이하에서 유의하다***"
   ]
  },
  {
   "cell_type": "markdown",
   "id": "0825d1b6",
   "metadata": {},
   "source": [
    "### 강수량 기술통계"
   ]
  },
  {
   "cell_type": "code",
   "execution_count": 10,
   "id": "04373056",
   "metadata": {},
   "outputs": [
    {
     "data": {
      "text/html": [
       "<div>\n",
       "<style scoped>\n",
       "    .dataframe tbody tr th:only-of-type {\n",
       "        vertical-align: middle;\n",
       "    }\n",
       "\n",
       "    .dataframe tbody tr th {\n",
       "        vertical-align: top;\n",
       "    }\n",
       "\n",
       "    .dataframe thead th {\n",
       "        text-align: right;\n",
       "    }\n",
       "</style>\n",
       "<table border=\"1\" class=\"dataframe\">\n",
       "  <thead>\n",
       "    <tr style=\"text-align: right;\">\n",
       "      <th></th>\n",
       "      <th>label</th>\n",
       "      <th>강수량</th>\n",
       "    </tr>\n",
       "  </thead>\n",
       "  <tbody>\n",
       "    <tr>\n",
       "      <th>count</th>\n",
       "      <td>1.361181e+07</td>\n",
       "      <td>1.361181e+07</td>\n",
       "    </tr>\n",
       "    <tr>\n",
       "      <th>mean</th>\n",
       "      <td>1.220485e-03</td>\n",
       "      <td>2.290901e-01</td>\n",
       "    </tr>\n",
       "    <tr>\n",
       "      <th>std</th>\n",
       "      <td>3.491411e-02</td>\n",
       "      <td>1.453348e+00</td>\n",
       "    </tr>\n",
       "    <tr>\n",
       "      <th>min</th>\n",
       "      <td>0.000000e+00</td>\n",
       "      <td>0.000000e+00</td>\n",
       "    </tr>\n",
       "    <tr>\n",
       "      <th>25%</th>\n",
       "      <td>0.000000e+00</td>\n",
       "      <td>0.000000e+00</td>\n",
       "    </tr>\n",
       "    <tr>\n",
       "      <th>50%</th>\n",
       "      <td>0.000000e+00</td>\n",
       "      <td>0.000000e+00</td>\n",
       "    </tr>\n",
       "    <tr>\n",
       "      <th>75%</th>\n",
       "      <td>0.000000e+00</td>\n",
       "      <td>0.000000e+00</td>\n",
       "    </tr>\n",
       "    <tr>\n",
       "      <th>max</th>\n",
       "      <td>1.000000e+00</td>\n",
       "      <td>1.055000e+02</td>\n",
       "    </tr>\n",
       "  </tbody>\n",
       "</table>\n",
       "</div>"
      ],
      "text/plain": [
       "              label           강수량\n",
       "count  1.361181e+07  1.361181e+07\n",
       "mean   1.220485e-03  2.290901e-01\n",
       "std    3.491411e-02  1.453348e+00\n",
       "min    0.000000e+00  0.000000e+00\n",
       "25%    0.000000e+00  0.000000e+00\n",
       "50%    0.000000e+00  0.000000e+00\n",
       "75%    0.000000e+00  0.000000e+00\n",
       "max    1.000000e+00  1.055000e+02"
      ]
     },
     "execution_count": 10,
     "metadata": {},
     "output_type": "execute_result"
    }
   ],
   "source": [
    "# amount of precipatation\n",
    "df_rn = combined_parts.dropna(subset=['강수량'])\n",
    "df_des=df_rn[['label','강수량']]\n",
    "df_des.describe()"
   ]
  },
  {
   "cell_type": "markdown",
   "id": "6241b18a",
   "metadata": {},
   "source": [
    "### boxplot(강수량)"
   ]
  },
  {
   "cell_type": "code",
   "execution_count": 11,
   "id": "6205372e",
   "metadata": {},
   "outputs": [
    {
     "data": {
      "text/plain": [
       "<AxesSubplot:xlabel='label', ylabel='강수량'>"
      ]
     },
     "execution_count": 11,
     "metadata": {},
     "output_type": "execute_result"
    },
    {
     "data": {
      "image/png": "[encoded data removed]",
      "text/plain": [
       "<Figure size 432x288 with 1 Axes>"
      ]
     },
     "metadata": {
      "needs_background": "light"
     },
     "output_type": "display_data"
    }
   ],
   "source": [
    "sns.boxplot(x='label', y='강수량', hue='label', data = df_rn, palette = 'Set3')"
   ]
  },
  {
   "cell_type": "markdown",
   "id": "87647a1a",
   "metadata": {},
   "source": [
    "### 정규성 확인"
   ]
  },
  {
   "cell_type": "code",
   "execution_count": 12,
   "id": "7dccfb36",
   "metadata": {},
   "outputs": [
    {
     "data": {
      "text/plain": [
       "KstestResult(statistic=0.496, pvalue=9.301646788241219e-228)"
      ]
     },
     "execution_count": 12,
     "metadata": {},
     "output_type": "execute_result"
    }
   ],
   "source": [
    "ks_2samp(df_des[df_des['label']==0]['강수량'], x)"
   ]
  },
  {
   "cell_type": "code",
   "execution_count": 13,
   "id": "917363e2",
   "metadata": {},
   "outputs": [
    {
     "data": {
      "text/plain": [
       "KstestResult(statistic=0.501953409980136, pvalue=2.36992581054463e-220)"
      ]
     },
     "execution_count": 13,
     "metadata": {},
     "output_type": "execute_result"
    }
   ],
   "source": [
    "ks_2samp(df_des[df_des['label']==1]['강수량'], x)"
   ]
  },
  {
   "cell_type": "markdown",
   "id": "c91e1176",
   "metadata": {},
   "source": [
    "- 정규성을 띄지 않아 Mann-Whitny rank test 진행"
   ]
  },
  {
   "cell_type": "code",
   "execution_count": 14,
   "id": "34d36326",
   "metadata": {},
   "outputs": [
    {
     "data": {
      "text/plain": [
       "(103001897288.000, 0.000)"
      ]
     },
     "execution_count": 14,
     "metadata": {},
     "output_type": "execute_result"
    }
   ],
   "source": [
    "u, p = stats.mannwhitneyu(df_rn[df_rn['label']==1]['강수량'], df_rn[df_rn['label']==0]['강수량'],alternative='two-sided')\n",
    "u, p"
   ]
  },
  {
   "cell_type": "markdown",
   "id": "bb8819d1",
   "metadata": {},
   "source": [
    "***산불 발생 유무에 따른 강수량의 중앙값에 대해 차이가 유의수준 .005 이하에서 유의하다***"
   ]
  },
  {
   "cell_type": "markdown",
   "id": "0b94e136",
   "metadata": {},
   "source": [
    "## 풍속 기술통계"
   ]
  },
  {
   "cell_type": "code",
   "execution_count": 15,
   "id": "3bebfdd0",
   "metadata": {},
   "outputs": [
    {
     "data": {
      "text/html": [
       "<div>\n",
       "<style scoped>\n",
       "    .dataframe tbody tr th:only-of-type {\n",
       "        vertical-align: middle;\n",
       "    }\n",
       "\n",
       "    .dataframe tbody tr th {\n",
       "        vertical-align: top;\n",
       "    }\n",
       "\n",
       "    .dataframe thead th {\n",
       "        text-align: right;\n",
       "    }\n",
       "</style>\n",
       "<table border=\"1\" class=\"dataframe\">\n",
       "  <thead>\n",
       "    <tr style=\"text-align: right;\">\n",
       "      <th></th>\n",
       "      <th>label</th>\n",
       "      <th>풍속</th>\n",
       "    </tr>\n",
       "  </thead>\n",
       "  <tbody>\n",
       "    <tr>\n",
       "      <th>count</th>\n",
       "      <td>2.018848e+07</td>\n",
       "      <td>2.018848e+07</td>\n",
       "    </tr>\n",
       "    <tr>\n",
       "      <th>mean</th>\n",
       "      <td>9.735751e-04</td>\n",
       "      <td>2.043407e+00</td>\n",
       "    </tr>\n",
       "    <tr>\n",
       "      <th>std</th>\n",
       "      <td>3.118697e-02</td>\n",
       "      <td>1.970387e+00</td>\n",
       "    </tr>\n",
       "    <tr>\n",
       "      <th>min</th>\n",
       "      <td>0.000000e+00</td>\n",
       "      <td>0.000000e+00</td>\n",
       "    </tr>\n",
       "    <tr>\n",
       "      <th>25%</th>\n",
       "      <td>0.000000e+00</td>\n",
       "      <td>6.000000e-01</td>\n",
       "    </tr>\n",
       "    <tr>\n",
       "      <th>50%</th>\n",
       "      <td>0.000000e+00</td>\n",
       "      <td>1.600000e+00</td>\n",
       "    </tr>\n",
       "    <tr>\n",
       "      <th>75%</th>\n",
       "      <td>0.000000e+00</td>\n",
       "      <td>2.900000e+00</td>\n",
       "    </tr>\n",
       "    <tr>\n",
       "      <th>max</th>\n",
       "      <td>1.000000e+00</td>\n",
       "      <td>6.010000e+01</td>\n",
       "    </tr>\n",
       "  </tbody>\n",
       "</table>\n",
       "</div>"
      ],
      "text/plain": [
       "              label            풍속\n",
       "count  2.018848e+07  2.018848e+07\n",
       "mean   9.735751e-04  2.043407e+00\n",
       "std    3.118697e-02  1.970387e+00\n",
       "min    0.000000e+00  0.000000e+00\n",
       "25%    0.000000e+00  6.000000e-01\n",
       "50%    0.000000e+00  1.600000e+00\n",
       "75%    0.000000e+00  2.900000e+00\n",
       "max    1.000000e+00  6.010000e+01"
      ]
     },
     "execution_count": 15,
     "metadata": {},
     "output_type": "execute_result"
    }
   ],
   "source": [
    "# wind speed\n",
    "df_ws = combined_parts.dropna(subset=['풍속'])\n",
    "df_des = df_ws[['label','풍속']]\n",
    "df_des.describe()"
   ]
  },
  {
   "cell_type": "code",
   "execution_count": 16,
   "id": "d09fc4bb",
   "metadata": {},
   "outputs": [
    {
     "data": {
      "text/plain": [
       "<AxesSubplot:xlabel='label', ylabel='풍속'>"
      ]
     },
     "execution_count": 16,
     "metadata": {},
     "output_type": "execute_result"
    },
    {
     "data": {
      "image/png": "[encoded data removed]",
      "text/plain": [
       "<Figure size 432x288 with 1 Axes>"
      ]
     },
     "metadata": {
      "needs_background": "light"
     },
     "output_type": "display_data"
    }
   ],
   "source": [
    "sns.boxplot(x='label', y='풍속', hue='label', data = df_ws, palette = 'Set3')"
   ]
  },
  {
   "cell_type": "markdown",
   "id": "03036b0c",
   "metadata": {},
   "source": [
    "### 정규성 확인"
   ]
  },
  {
   "cell_type": "code",
   "execution_count": 17,
   "id": "7a07bfcd",
   "metadata": {},
   "outputs": [
    {
     "data": {
      "text/plain": [
       "KstestResult(statistic=0.496, pvalue=9.301646788241219e-228)"
      ]
     },
     "execution_count": 17,
     "metadata": {},
     "output_type": "execute_result"
    }
   ],
   "source": [
    "ks_2samp(df_des[df_des['label']==0]['풍속'], x)"
   ]
  },
  {
   "cell_type": "code",
   "execution_count": 18,
   "id": "cbcacf85",
   "metadata": {},
   "outputs": [
    {
     "data": {
      "text/plain": [
       "KstestResult(statistic=0.7430320529127449, pvalue=0.0)"
      ]
     },
     "execution_count": 18,
     "metadata": {},
     "output_type": "execute_result"
    }
   ],
   "source": [
    "ks_2samp(df_des[df_des['label']==1]['풍속'], x)"
   ]
  },
  {
   "cell_type": "markdown",
   "id": "7d1f72c0",
   "metadata": {},
   "source": [
    "- 정규성을 띄지 않아 Mann-Whitny rank test 진행"
   ]
  },
  {
   "cell_type": "code",
   "execution_count": 19,
   "id": "cdb9b1d2",
   "metadata": {},
   "outputs": [
    {
     "data": {
      "text/plain": [
       "(268836138825.000, 0.000)"
      ]
     },
     "execution_count": 19,
     "metadata": {},
     "output_type": "execute_result"
    }
   ],
   "source": [
    "u, p = stats.mannwhitneyu(df_ws[df_ws['label']==1]['풍속'], df_ws[df_ws['label']==0]['풍속'],alternative='two-sided')\n",
    "u, p"
   ]
  },
  {
   "cell_type": "markdown",
   "id": "fe11be86",
   "metadata": {},
   "source": [
    "***산불 발생 유무에 따른 풍속의 중앙값에 대해 차이가 유의수준 .005 이하에서 유의하다***"
   ]
  },
  {
   "cell_type": "markdown",
   "id": "b2549357",
   "metadata": {},
   "source": [
    "## 상대습도 기술통계"
   ]
  },
  {
   "cell_type": "code",
   "execution_count": 20,
   "id": "b391836b",
   "metadata": {},
   "outputs": [
    {
     "data": {
      "text/html": [
       "<div>\n",
       "<style scoped>\n",
       "    .dataframe tbody tr th:only-of-type {\n",
       "        vertical-align: middle;\n",
       "    }\n",
       "\n",
       "    .dataframe tbody tr th {\n",
       "        vertical-align: top;\n",
       "    }\n",
       "\n",
       "    .dataframe thead th {\n",
       "        text-align: right;\n",
       "    }\n",
       "</style>\n",
       "<table border=\"1\" class=\"dataframe\">\n",
       "  <thead>\n",
       "    <tr style=\"text-align: right;\">\n",
       "      <th></th>\n",
       "      <th>label</th>\n",
       "      <th>습도</th>\n",
       "    </tr>\n",
       "  </thead>\n",
       "  <tbody>\n",
       "    <tr>\n",
       "      <th>count</th>\n",
       "      <td>1.847103e+07</td>\n",
       "      <td>1.847103e+07</td>\n",
       "    </tr>\n",
       "    <tr>\n",
       "      <th>mean</th>\n",
       "      <td>9.402834e-04</td>\n",
       "      <td>2.760722e+01</td>\n",
       "    </tr>\n",
       "    <tr>\n",
       "      <th>std</th>\n",
       "      <td>3.064962e-02</td>\n",
       "      <td>3.576528e+01</td>\n",
       "    </tr>\n",
       "    <tr>\n",
       "      <th>min</th>\n",
       "      <td>0.000000e+00</td>\n",
       "      <td>0.000000e+00</td>\n",
       "    </tr>\n",
       "    <tr>\n",
       "      <th>25%</th>\n",
       "      <td>0.000000e+00</td>\n",
       "      <td>0.000000e+00</td>\n",
       "    </tr>\n",
       "    <tr>\n",
       "      <th>50%</th>\n",
       "      <td>0.000000e+00</td>\n",
       "      <td>0.000000e+00</td>\n",
       "    </tr>\n",
       "    <tr>\n",
       "      <th>75%</th>\n",
       "      <td>0.000000e+00</td>\n",
       "      <td>6.300000e+01</td>\n",
       "    </tr>\n",
       "    <tr>\n",
       "      <th>max</th>\n",
       "      <td>1.000000e+00</td>\n",
       "      <td>1.000000e+02</td>\n",
       "    </tr>\n",
       "  </tbody>\n",
       "</table>\n",
       "</div>"
      ],
      "text/plain": [
       "              label            습도\n",
       "count  1.847103e+07  1.847103e+07\n",
       "mean   9.402834e-04  2.760722e+01\n",
       "std    3.064962e-02  3.576528e+01\n",
       "min    0.000000e+00  0.000000e+00\n",
       "25%    0.000000e+00  0.000000e+00\n",
       "50%    0.000000e+00  0.000000e+00\n",
       "75%    0.000000e+00  6.300000e+01\n",
       "max    1.000000e+00  1.000000e+02"
      ]
     },
     "execution_count": 20,
     "metadata": {},
     "output_type": "execute_result"
    }
   ],
   "source": [
    "# relative humidity\n",
    "df_hm = combined_parts.dropna(subset=['습도'])\n",
    "df_des = df_hm[['label','습도']]\n",
    "df_des.describe()\n"
   ]
  },
  {
   "cell_type": "code",
   "execution_count": 21,
   "id": "191f43c8",
   "metadata": {},
   "outputs": [
    {
     "data": {
      "text/plain": [
       "<AxesSubplot:xlabel='label', ylabel='습도'>"
      ]
     },
     "execution_count": 21,
     "metadata": {},
     "output_type": "execute_result"
    },
    {
     "data": {
      "image/png": "[encoded data removed]",
      "text/plain": [
       "<Figure size 432x288 with 1 Axes>"
      ]
     },
     "metadata": {
      "needs_background": "light"
     },
     "output_type": "display_data"
    }
   ],
   "source": [
    "sns.boxplot(x='label', y='습도', hue='label', data = df_hm, palette = 'Set3')"
   ]
  },
  {
   "cell_type": "markdown",
   "id": "f653b046",
   "metadata": {},
   "source": [
    "### 정규성 확인"
   ]
  },
  {
   "cell_type": "code",
   "execution_count": 22,
   "id": "583bde4d",
   "metadata": {},
   "outputs": [
    {
     "data": {
      "text/plain": [
       "KstestResult(statistic=0.496, pvalue=9.301646788241219e-228)"
      ]
     },
     "execution_count": 22,
     "metadata": {},
     "output_type": "execute_result"
    }
   ],
   "source": [
    "ks_2samp(df_des[df_des['label']==0]['습도'], x)"
   ]
  },
  {
   "cell_type": "code",
   "execution_count": 23,
   "id": "87b8667c",
   "metadata": {},
   "outputs": [
    {
     "data": {
      "text/plain": [
       "KstestResult(statistic=0.496, pvalue=1.7343780549784067e-215)"
      ]
     },
     "execution_count": 23,
     "metadata": {},
     "output_type": "execute_result"
    }
   ],
   "source": [
    "ks_2samp(df_des[df_des['label']==1]['습도'], x)"
   ]
  },
  {
   "cell_type": "markdown",
   "id": "d8619f56",
   "metadata": {},
   "source": [
    "- 정규성을 띄지 않아 Mann-Whitny rank test 진행"
   ]
  },
  {
   "cell_type": "code",
   "execution_count": 24,
   "id": "706bd784",
   "metadata": {},
   "outputs": [
    {
     "data": {
      "text/plain": [
       "(116766975646.000, 0.000)"
      ]
     },
     "execution_count": 24,
     "metadata": {},
     "output_type": "execute_result"
    }
   ],
   "source": [
    "u, p = stats.mannwhitneyu(df_hm[df_hm['label']==1]['습도'], df_hm[df_hm['label']==0]['습도'],alternative='two-sided')\n",
    "u, p"
   ]
  },
  {
   "cell_type": "markdown",
   "id": "4f7c3914",
   "metadata": {},
   "source": [
    "***산불 발생 유무에 따른 상대습도의 중앙값에 대해 차이가 유의수준 .005 이하에서 유의하다***"
   ]
  },
  {
   "cell_type": "markdown",
   "id": "a18d9fbc",
   "metadata": {},
   "source": [
    "## 실효습도 기술통계"
   ]
  },
  {
   "cell_type": "code",
   "execution_count": 25,
   "id": "fe43dd82",
   "metadata": {},
   "outputs": [
    {
     "data": {
      "text/html": [
       "<div>\n",
       "<style scoped>\n",
       "    .dataframe tbody tr th:only-of-type {\n",
       "        vertical-align: middle;\n",
       "    }\n",
       "\n",
       "    .dataframe tbody tr th {\n",
       "        vertical-align: top;\n",
       "    }\n",
       "\n",
       "    .dataframe thead th {\n",
       "        text-align: right;\n",
       "    }\n",
       "</style>\n",
       "<table border=\"1\" class=\"dataframe\">\n",
       "  <thead>\n",
       "    <tr style=\"text-align: right;\">\n",
       "      <th></th>\n",
       "      <th>label</th>\n",
       "      <th>실효습도</th>\n",
       "    </tr>\n",
       "  </thead>\n",
       "  <tbody>\n",
       "    <tr>\n",
       "      <th>0</th>\n",
       "      <td>0</td>\n",
       "      <td>62.70</td>\n",
       "    </tr>\n",
       "    <tr>\n",
       "      <th>1</th>\n",
       "      <td>0</td>\n",
       "      <td>62.70</td>\n",
       "    </tr>\n",
       "    <tr>\n",
       "      <th>2</th>\n",
       "      <td>0</td>\n",
       "      <td>62.70</td>\n",
       "    </tr>\n",
       "    <tr>\n",
       "      <th>3</th>\n",
       "      <td>0</td>\n",
       "      <td>62.70</td>\n",
       "    </tr>\n",
       "    <tr>\n",
       "      <th>4</th>\n",
       "      <td>0</td>\n",
       "      <td>62.70</td>\n",
       "    </tr>\n",
       "    <tr>\n",
       "      <th>...</th>\n",
       "      <td>...</td>\n",
       "      <td>...</td>\n",
       "    </tr>\n",
       "    <tr>\n",
       "      <th>20484839</th>\n",
       "      <td>0</td>\n",
       "      <td>54.27</td>\n",
       "    </tr>\n",
       "    <tr>\n",
       "      <th>20484840</th>\n",
       "      <td>0</td>\n",
       "      <td>61.35</td>\n",
       "    </tr>\n",
       "    <tr>\n",
       "      <th>20484841</th>\n",
       "      <td>0</td>\n",
       "      <td>64.00</td>\n",
       "    </tr>\n",
       "    <tr>\n",
       "      <th>20484842</th>\n",
       "      <td>0</td>\n",
       "      <td>64.21</td>\n",
       "    </tr>\n",
       "    <tr>\n",
       "      <th>20484843</th>\n",
       "      <td>0</td>\n",
       "      <td>66.57</td>\n",
       "    </tr>\n",
       "  </tbody>\n",
       "</table>\n",
       "<p>20473046 rows × 2 columns</p>\n",
       "</div>"
      ],
      "text/plain": [
       "          label   실효습도\n",
       "0             0  62.70\n",
       "1             0  62.70\n",
       "2             0  62.70\n",
       "3             0  62.70\n",
       "4             0  62.70\n",
       "...         ...    ...\n",
       "20484839      0  54.27\n",
       "20484840      0  61.35\n",
       "20484841      0  64.00\n",
       "20484842      0  64.21\n",
       "20484843      0  66.57\n",
       "\n",
       "[20473046 rows x 2 columns]"
      ]
     },
     "execution_count": 25,
     "metadata": {},
     "output_type": "execute_result"
    }
   ],
   "source": [
    "# effective humidity\n",
    "df_efhm = combined_parts.dropna(subset=['실효습도'])\n",
    "df_des = df_efhm[['label','실효습도']]\n",
    "df_des\n"
   ]
  },
  {
   "cell_type": "code",
   "execution_count": 26,
   "id": "afff0d7e",
   "metadata": {},
   "outputs": [
    {
     "data": {
      "text/plain": [
       "<AxesSubplot:xlabel='label', ylabel='실효습도'>"
      ]
     },
     "execution_count": 26,
     "metadata": {},
     "output_type": "execute_result"
    },
    {
     "data": {
      "image/png": "[encoded data removed]",
      "text/plain": [
       "<Figure size 432x288 with 1 Axes>"
      ]
     },
     "metadata": {
      "needs_background": "light"
     },
     "output_type": "display_data"
    }
   ],
   "source": [
    "sns.boxplot(x='label', y='실효습도', hue='label', data = df_efhm, palette = 'Set3')"
   ]
  },
  {
   "cell_type": "markdown",
   "id": "3008408e",
   "metadata": {},
   "source": [
    "### 정규성 확인"
   ]
  },
  {
   "cell_type": "code",
   "execution_count": 27,
   "id": "9b424fcb",
   "metadata": {},
   "outputs": [
    {
     "data": {
      "text/plain": [
       "KstestResult(statistic=0.9996990190544016, pvalue=0.0)"
      ]
     },
     "execution_count": 27,
     "metadata": {},
     "output_type": "execute_result"
    }
   ],
   "source": [
    "ks_2samp(df_des[df_des['label']==0]['실효습도'], x)"
   ]
  },
  {
   "cell_type": "code",
   "execution_count": 28,
   "id": "ef66a6a1",
   "metadata": {},
   "outputs": [
    {
     "data": {
      "text/plain": [
       "KstestResult(statistic=1.0, pvalue=0.0)"
      ]
     },
     "execution_count": 28,
     "metadata": {},
     "output_type": "execute_result"
    }
   ],
   "source": [
    "ks_2samp(df_des[df_des['label']==1]['실효습도'], x)"
   ]
  },
  {
   "cell_type": "markdown",
   "id": "6a295759",
   "metadata": {},
   "source": [
    "- 정규성을 띄지 않아 Mann-Whitny rank test 진행"
   ]
  },
  {
   "cell_type": "code",
   "execution_count": 29,
   "id": "3cba7cab",
   "metadata": {},
   "outputs": [
    {
     "data": {
      "text/plain": [
       "(41824686750.000, 0.000)"
      ]
     },
     "execution_count": 29,
     "metadata": {},
     "output_type": "execute_result"
    }
   ],
   "source": [
    "u, p = stats.mannwhitneyu(df_efhm[df_efhm['label']==1]['실효습도'], df_efhm[df_efhm['label']==0]['실효습도'],alternative='two-sided')\n",
    "u, p"
   ]
  },
  {
   "cell_type": "markdown",
   "id": "b70e1362",
   "metadata": {},
   "source": [
    "***산불 발생 유무에 따른 풍속의 중앙값에 대해 차이가 유의수준 .005 이하에서 유의하다***"
   ]
  },
  {
   "cell_type": "markdown",
   "id": "59a88fb3",
   "metadata": {},
   "source": [
    "### Result\n",
    "- 모든 수치형 데이터에 대해 산불이 발생한 사건의 기상 데이터와 발생하지 않은 사건 집단 사이에는 각 기상 수치들의 중앙값에 유의한 차이가 있다고 결론 내릴 수 있다."
   ]
  },
  {
   "cell_type": "code",
   "execution_count": 6,
   "id": "b1326f77",
   "metadata": {},
   "outputs": [],
   "source": [
    "from datetime import datetime, timedelta, date, time"
   ]
  },
  {
   "cell_type": "code",
   "execution_count": 11,
   "id": "b7b8b286",
   "metadata": {},
   "outputs": [],
   "source": [
    "# 봄, 겨울 추출\n",
    "spr_win = []\n",
    "for i in range(len(combined_parts)):\n",
    "    row=list(combined_parts.iloc[i])\n",
    "    if row[1][5:7] in ['12','01','02','03','04','05']:\n",
    "        spr_win.append(row)\n",
    "\n",
    "        \n",
    "    \n",
    "    "
   ]
  },
  {
   "cell_type": "code",
   "execution_count": 15,
   "id": "7e1a2cb8",
   "metadata": {},
   "outputs": [],
   "source": [
    "spr_win_df = pd.DataFrame(spr_win,columns=['ID','일시','지점명','기온','강수량','풍속','풍향','습도','실효습도','label'])"
   ]
  },
  {
   "cell_type": "code",
   "execution_count": 16,
   "id": "cad80e1b",
   "metadata": {},
   "outputs": [],
   "source": [
    "spr_win_df.to_csv('spr_win_training.csv')"
   ]
  },
  {
   "cell_type": "code",
   "execution_count": 17,
   "id": "baf00564",
   "metadata": {},
   "outputs": [
    {
     "data": {
      "text/html": [
       "<div>\n",
       "<style scoped>\n",
       "    .dataframe tbody tr th:only-of-type {\n",
       "        vertical-align: middle;\n",
       "    }\n",
       "\n",
       "    .dataframe tbody tr th {\n",
       "        vertical-align: top;\n",
       "    }\n",
       "\n",
       "    .dataframe thead th {\n",
       "        text-align: right;\n",
       "    }\n",
       "</style>\n",
       "<table border=\"1\" class=\"dataframe\">\n",
       "  <thead>\n",
       "    <tr style=\"text-align: right;\">\n",
       "      <th></th>\n",
       "      <th>label</th>\n",
       "      <th>기온</th>\n",
       "    </tr>\n",
       "  </thead>\n",
       "  <tbody>\n",
       "    <tr>\n",
       "      <th>count</th>\n",
       "      <td>1.047068e+07</td>\n",
       "      <td>1.047068e+07</td>\n",
       "    </tr>\n",
       "    <tr>\n",
       "      <th>mean</th>\n",
       "      <td>1.719373e-03</td>\n",
       "      <td>6.246243e+00</td>\n",
       "    </tr>\n",
       "    <tr>\n",
       "      <th>std</th>\n",
       "      <td>4.142967e-02</td>\n",
       "      <td>8.591570e+00</td>\n",
       "    </tr>\n",
       "    <tr>\n",
       "      <th>min</th>\n",
       "      <td>0.000000e+00</td>\n",
       "      <td>-3.270000e+01</td>\n",
       "    </tr>\n",
       "    <tr>\n",
       "      <th>25%</th>\n",
       "      <td>0.000000e+00</td>\n",
       "      <td>0.000000e+00</td>\n",
       "    </tr>\n",
       "    <tr>\n",
       "      <th>50%</th>\n",
       "      <td>0.000000e+00</td>\n",
       "      <td>5.600000e+00</td>\n",
       "    </tr>\n",
       "    <tr>\n",
       "      <th>75%</th>\n",
       "      <td>0.000000e+00</td>\n",
       "      <td>1.260000e+01</td>\n",
       "    </tr>\n",
       "    <tr>\n",
       "      <th>max</th>\n",
       "      <td>1.000000e+00</td>\n",
       "      <td>3.800000e+01</td>\n",
       "    </tr>\n",
       "  </tbody>\n",
       "</table>\n",
       "</div>"
      ],
      "text/plain": [
       "              label            기온\n",
       "count  1.047068e+07  1.047068e+07\n",
       "mean   1.719373e-03  6.246243e+00\n",
       "std    4.142967e-02  8.591570e+00\n",
       "min    0.000000e+00 -3.270000e+01\n",
       "25%    0.000000e+00  0.000000e+00\n",
       "50%    0.000000e+00  5.600000e+00\n",
       "75%    0.000000e+00  1.260000e+01\n",
       "max    1.000000e+00  3.800000e+01"
      ]
     },
     "execution_count": 17,
     "metadata": {},
     "output_type": "execute_result"
    }
   ],
   "source": [
    "df_temperature = spr_win_df.dropna(subset=['기온'])\n",
    "df_des = df_temperature[['label','기온']]\n",
    "df_des.describe()"
   ]
  },
  {
   "cell_type": "code",
   "execution_count": 18,
   "id": "e64b17cf",
   "metadata": {},
   "outputs": [
    {
     "data": {
      "text/plain": [
       "<AxesSubplot:xlabel='label', ylabel='기온'>"
      ]
     },
     "execution_count": 18,
     "metadata": {},
     "output_type": "execute_result"
    },
    {
     "name": "stderr",
     "output_type": "stream",
     "text": [
      "C:\\Users\\yujeyeong\\anaconda3\\lib\\site-packages\\IPython\\core\\pylabtools.py:151: UserWarning: Glyph 8722 (\\N{MINUS SIGN}) missing from current font.\n",
      "  fig.canvas.print_figure(bytes_io, **kw)\n"
     ]
    },
    {
     "data": {
      "image/png": "[encoded data removed]",
      "text/plain": [
       "<Figure size 432x288 with 1 Axes>"
      ]
     },
     "metadata": {
      "needs_background": "light"
     },
     "output_type": "display_data"
    }
   ],
   "source": [
    "sns.boxplot(x='label', y='기온', hue='label', data = df_temperature, palette = 'Set3')"
   ]
  },
  {
   "cell_type": "code",
   "execution_count": 19,
   "id": "85ac295a",
   "metadata": {},
   "outputs": [],
   "source": [
    "np.random.seed(12345678)\n",
    "x = np.random.normal(0, 1, 1000)"
   ]
  },
  {
   "cell_type": "code",
   "execution_count": 21,
   "id": "0a004841",
   "metadata": {},
   "outputs": [
    {
     "data": {
      "text/plain": [
       "KstestResult(statistic=0.6418931848239378, pvalue=0.0)"
      ]
     },
     "execution_count": 21,
     "metadata": {},
     "output_type": "execute_result"
    }
   ],
   "source": [
    "ks_2samp(df_des[df_des['label']==0]['기온'], x)"
   ]
  },
  {
   "cell_type": "code",
   "execution_count": 22,
   "id": "969128d7",
   "metadata": {},
   "outputs": [
    {
     "data": {
      "text/plain": [
       "KstestResult(statistic=0.8867402655113037, pvalue=0.0)"
      ]
     },
     "execution_count": 22,
     "metadata": {},
     "output_type": "execute_result"
    }
   ],
   "source": [
    "ks_2samp(df_des[df_des['label']==1]['기온'], x)"
   ]
  },
  {
   "cell_type": "code",
   "execution_count": 23,
   "id": "85bb7623",
   "metadata": {},
   "outputs": [
    {
     "data": {
      "text/plain": [
       "0.000"
      ]
     },
     "execution_count": 23,
     "metadata": {},
     "output_type": "execute_result"
    }
   ],
   "source": [
    "u, p = stats.mannwhitneyu(df_temperature[df_temperature['label']==1]['기온'], df_temperature[df_temperature['label']==0]['기온'],alternative='two-sided')\n",
    "p"
   ]
  },
  {
   "cell_type": "code",
   "execution_count": 24,
   "id": "27a582c2",
   "metadata": {},
   "outputs": [
    {
     "data": {
      "text/html": [
       "<div>\n",
       "<style scoped>\n",
       "    .dataframe tbody tr th:only-of-type {\n",
       "        vertical-align: middle;\n",
       "    }\n",
       "\n",
       "    .dataframe tbody tr th {\n",
       "        vertical-align: top;\n",
       "    }\n",
       "\n",
       "    .dataframe thead th {\n",
       "        text-align: right;\n",
       "    }\n",
       "</style>\n",
       "<table border=\"1\" class=\"dataframe\">\n",
       "  <thead>\n",
       "    <tr style=\"text-align: right;\">\n",
       "      <th></th>\n",
       "      <th>label</th>\n",
       "      <th>강수량</th>\n",
       "    </tr>\n",
       "  </thead>\n",
       "  <tbody>\n",
       "    <tr>\n",
       "      <th>count</th>\n",
       "      <td>6.839682e+06</td>\n",
       "      <td>6.839682e+06</td>\n",
       "    </tr>\n",
       "    <tr>\n",
       "      <th>mean</th>\n",
       "      <td>2.223495e-03</td>\n",
       "      <td>1.176273e-01</td>\n",
       "    </tr>\n",
       "    <tr>\n",
       "      <th>std</th>\n",
       "      <td>4.710150e-02</td>\n",
       "      <td>7.682706e-01</td>\n",
       "    </tr>\n",
       "    <tr>\n",
       "      <th>min</th>\n",
       "      <td>0.000000e+00</td>\n",
       "      <td>0.000000e+00</td>\n",
       "    </tr>\n",
       "    <tr>\n",
       "      <th>25%</th>\n",
       "      <td>0.000000e+00</td>\n",
       "      <td>0.000000e+00</td>\n",
       "    </tr>\n",
       "    <tr>\n",
       "      <th>50%</th>\n",
       "      <td>0.000000e+00</td>\n",
       "      <td>0.000000e+00</td>\n",
       "    </tr>\n",
       "    <tr>\n",
       "      <th>75%</th>\n",
       "      <td>0.000000e+00</td>\n",
       "      <td>0.000000e+00</td>\n",
       "    </tr>\n",
       "    <tr>\n",
       "      <th>max</th>\n",
       "      <td>1.000000e+00</td>\n",
       "      <td>8.100000e+01</td>\n",
       "    </tr>\n",
       "  </tbody>\n",
       "</table>\n",
       "</div>"
      ],
      "text/plain": [
       "              label           강수량\n",
       "count  6.839682e+06  6.839682e+06\n",
       "mean   2.223495e-03  1.176273e-01\n",
       "std    4.710150e-02  7.682706e-01\n",
       "min    0.000000e+00  0.000000e+00\n",
       "25%    0.000000e+00  0.000000e+00\n",
       "50%    0.000000e+00  0.000000e+00\n",
       "75%    0.000000e+00  0.000000e+00\n",
       "max    1.000000e+00  8.100000e+01"
      ]
     },
     "execution_count": 24,
     "metadata": {},
     "output_type": "execute_result"
    }
   ],
   "source": [
    "# amount of precipatation\n",
    "df_rn = spr_win_df.dropna(subset=['강수량'])\n",
    "df_des=df_rn[['label','강수량']]\n",
    "df_des.describe()"
   ]
  },
  {
   "cell_type": "code",
   "execution_count": 25,
   "id": "a1f7edb5",
   "metadata": {},
   "outputs": [
    {
     "data": {
      "text/plain": [
       "<AxesSubplot:xlabel='label', ylabel='강수량'>"
      ]
     },
     "execution_count": 25,
     "metadata": {},
     "output_type": "execute_result"
    },
    {
     "data": {
      "image/png": "[encoded data removed]",
      "text/plain": [
       "<Figure size 432x288 with 1 Axes>"
      ]
     },
     "metadata": {
      "needs_background": "light"
     },
     "output_type": "display_data"
    }
   ],
   "source": [
    "sns.boxplot(x='label', y='강수량', hue='label', data = df_rn, palette = 'Set3')"
   ]
  },
  {
   "cell_type": "code",
   "execution_count": 26,
   "id": "e290faa2",
   "metadata": {},
   "outputs": [
    {
     "data": {
      "text/plain": [
       "KstestResult(statistic=0.496, pvalue=9.301646788241219e-228)"
      ]
     },
     "execution_count": 26,
     "metadata": {},
     "output_type": "execute_result"
    }
   ],
   "source": [
    "ks_2samp(df_des[df_des['label']==0]['강수량'], x)"
   ]
  },
  {
   "cell_type": "code",
   "execution_count": 27,
   "id": "d7f81d08",
   "metadata": {},
   "outputs": [
    {
     "data": {
      "text/plain": [
       "KstestResult(statistic=0.502224618621778, pvalue=1.9361060941771408e-219)"
      ]
     },
     "execution_count": 27,
     "metadata": {},
     "output_type": "execute_result"
    }
   ],
   "source": [
    "ks_2samp(df_des[df_des['label']==1]['강수량'], x)"
   ]
  },
  {
   "cell_type": "code",
   "execution_count": 28,
   "id": "539ba3a7",
   "metadata": {},
   "outputs": [
    {
     "data": {
      "text/plain": [
       "0.000"
      ]
     },
     "execution_count": 28,
     "metadata": {},
     "output_type": "execute_result"
    }
   ],
   "source": [
    "u, p = stats.mannwhitneyu(df_rn[df_rn['label']==1]['강수량'], df_rn[df_rn['label']==0]['강수량'],alternative='two-sided')\n",
    "p"
   ]
  },
  {
   "cell_type": "code",
   "execution_count": 29,
   "id": "c2b46c22",
   "metadata": {},
   "outputs": [
    {
     "data": {
      "text/html": [
       "<div>\n",
       "<style scoped>\n",
       "    .dataframe tbody tr th:only-of-type {\n",
       "        vertical-align: middle;\n",
       "    }\n",
       "\n",
       "    .dataframe tbody tr th {\n",
       "        vertical-align: top;\n",
       "    }\n",
       "\n",
       "    .dataframe thead th {\n",
       "        text-align: right;\n",
       "    }\n",
       "</style>\n",
       "<table border=\"1\" class=\"dataframe\">\n",
       "  <thead>\n",
       "    <tr style=\"text-align: right;\">\n",
       "      <th></th>\n",
       "      <th>label</th>\n",
       "      <th>풍속</th>\n",
       "    </tr>\n",
       "  </thead>\n",
       "  <tbody>\n",
       "    <tr>\n",
       "      <th>count</th>\n",
       "      <td>1.035333e+07</td>\n",
       "      <td>1.035333e+07</td>\n",
       "    </tr>\n",
       "    <tr>\n",
       "      <th>mean</th>\n",
       "      <td>1.719736e-03</td>\n",
       "      <td>2.260424e+00</td>\n",
       "    </tr>\n",
       "    <tr>\n",
       "      <th>std</th>\n",
       "      <td>4.143403e-02</td>\n",
       "      <td>2.109972e+00</td>\n",
       "    </tr>\n",
       "    <tr>\n",
       "      <th>min</th>\n",
       "      <td>0.000000e+00</td>\n",
       "      <td>0.000000e+00</td>\n",
       "    </tr>\n",
       "    <tr>\n",
       "      <th>25%</th>\n",
       "      <td>0.000000e+00</td>\n",
       "      <td>7.000000e-01</td>\n",
       "    </tr>\n",
       "    <tr>\n",
       "      <th>50%</th>\n",
       "      <td>0.000000e+00</td>\n",
       "      <td>1.800000e+00</td>\n",
       "    </tr>\n",
       "    <tr>\n",
       "      <th>75%</th>\n",
       "      <td>0.000000e+00</td>\n",
       "      <td>3.300000e+00</td>\n",
       "    </tr>\n",
       "    <tr>\n",
       "      <th>max</th>\n",
       "      <td>1.000000e+00</td>\n",
       "      <td>6.010000e+01</td>\n",
       "    </tr>\n",
       "  </tbody>\n",
       "</table>\n",
       "</div>"
      ],
      "text/plain": [
       "              label            풍속\n",
       "count  1.035333e+07  1.035333e+07\n",
       "mean   1.719736e-03  2.260424e+00\n",
       "std    4.143403e-02  2.109972e+00\n",
       "min    0.000000e+00  0.000000e+00\n",
       "25%    0.000000e+00  7.000000e-01\n",
       "50%    0.000000e+00  1.800000e+00\n",
       "75%    0.000000e+00  3.300000e+00\n",
       "max    1.000000e+00  6.010000e+01"
      ]
     },
     "execution_count": 29,
     "metadata": {},
     "output_type": "execute_result"
    }
   ],
   "source": [
    "# wind speed\n",
    "df_ws = spr_win_df.dropna(subset=['풍속'])\n",
    "df_des = df_ws[['label','풍속']]\n",
    "df_des.describe()"
   ]
  },
  {
   "cell_type": "code",
   "execution_count": 30,
   "id": "404da378",
   "metadata": {},
   "outputs": [
    {
     "data": {
      "text/plain": [
       "<AxesSubplot:xlabel='label', ylabel='풍속'>"
      ]
     },
     "execution_count": 30,
     "metadata": {},
     "output_type": "execute_result"
    },
    {
     "data": {
      "image/png": "[encoded data removed]",
      "text/plain": [
       "<Figure size 432x288 with 1 Axes>"
      ]
     },
     "metadata": {
      "needs_background": "light"
     },
     "output_type": "display_data"
    }
   ],
   "source": [
    "sns.boxplot(x='label', y='풍속', hue='label', data = df_ws, palette = 'Set3')"
   ]
  },
  {
   "cell_type": "code",
   "execution_count": 31,
   "id": "32ec2b17",
   "metadata": {},
   "outputs": [
    {
     "data": {
      "text/plain": [
       "KstestResult(statistic=0.5270789886032925, pvalue=1.7089152741941455e-259)"
      ]
     },
     "execution_count": 31,
     "metadata": {},
     "output_type": "execute_result"
    }
   ],
   "source": [
    "ks_2samp(df_des[df_des['label']==0]['풍속'], x)"
   ]
  },
  {
   "cell_type": "code",
   "execution_count": 32,
   "id": "7ea87cc1",
   "metadata": {},
   "outputs": [
    {
     "data": {
      "text/plain": [
       "KstestResult(statistic=0.7517351867452963, pvalue=0.0)"
      ]
     },
     "execution_count": 32,
     "metadata": {},
     "output_type": "execute_result"
    }
   ],
   "source": [
    "ks_2samp(df_des[df_des['label']==1]['풍속'], x)"
   ]
  },
  {
   "cell_type": "code",
   "execution_count": 33,
   "id": "4c243584",
   "metadata": {},
   "outputs": [
    {
     "data": {
      "text/plain": [
       "0.000"
      ]
     },
     "execution_count": 33,
     "metadata": {},
     "output_type": "execute_result"
    }
   ],
   "source": [
    "u, p = stats.mannwhitneyu(df_ws[df_ws['label']==1]['풍속'], df_ws[df_ws['label']==0]['풍속'],alternative='two-sided')\n",
    "p"
   ]
  },
  {
   "cell_type": "code",
   "execution_count": 34,
   "id": "12a53c62",
   "metadata": {},
   "outputs": [
    {
     "data": {
      "text/html": [
       "<div>\n",
       "<style scoped>\n",
       "    .dataframe tbody tr th:only-of-type {\n",
       "        vertical-align: middle;\n",
       "    }\n",
       "\n",
       "    .dataframe tbody tr th {\n",
       "        vertical-align: top;\n",
       "    }\n",
       "\n",
       "    .dataframe thead th {\n",
       "        text-align: right;\n",
       "    }\n",
       "</style>\n",
       "<table border=\"1\" class=\"dataframe\">\n",
       "  <thead>\n",
       "    <tr style=\"text-align: right;\">\n",
       "      <th></th>\n",
       "      <th>label</th>\n",
       "      <th>습도</th>\n",
       "    </tr>\n",
       "  </thead>\n",
       "  <tbody>\n",
       "    <tr>\n",
       "      <th>count</th>\n",
       "      <td>9.523586e+06</td>\n",
       "      <td>9.523586e+06</td>\n",
       "    </tr>\n",
       "    <tr>\n",
       "      <th>mean</th>\n",
       "      <td>1.643079e-03</td>\n",
       "      <td>2.517843e+01</td>\n",
       "    </tr>\n",
       "    <tr>\n",
       "      <th>std</th>\n",
       "      <td>4.050159e-02</td>\n",
       "      <td>3.321364e+01</td>\n",
       "    </tr>\n",
       "    <tr>\n",
       "      <th>min</th>\n",
       "      <td>0.000000e+00</td>\n",
       "      <td>0.000000e+00</td>\n",
       "    </tr>\n",
       "    <tr>\n",
       "      <th>25%</th>\n",
       "      <td>0.000000e+00</td>\n",
       "      <td>0.000000e+00</td>\n",
       "    </tr>\n",
       "    <tr>\n",
       "      <th>50%</th>\n",
       "      <td>0.000000e+00</td>\n",
       "      <td>0.000000e+00</td>\n",
       "    </tr>\n",
       "    <tr>\n",
       "      <th>75%</th>\n",
       "      <td>0.000000e+00</td>\n",
       "      <td>5.500000e+01</td>\n",
       "    </tr>\n",
       "    <tr>\n",
       "      <th>max</th>\n",
       "      <td>1.000000e+00</td>\n",
       "      <td>1.000000e+02</td>\n",
       "    </tr>\n",
       "  </tbody>\n",
       "</table>\n",
       "</div>"
      ],
      "text/plain": [
       "              label            습도\n",
       "count  9.523586e+06  9.523586e+06\n",
       "mean   1.643079e-03  2.517843e+01\n",
       "std    4.050159e-02  3.321364e+01\n",
       "min    0.000000e+00  0.000000e+00\n",
       "25%    0.000000e+00  0.000000e+00\n",
       "50%    0.000000e+00  0.000000e+00\n",
       "75%    0.000000e+00  5.500000e+01\n",
       "max    1.000000e+00  1.000000e+02"
      ]
     },
     "execution_count": 34,
     "metadata": {},
     "output_type": "execute_result"
    }
   ],
   "source": [
    "# relative humidity\n",
    "df_hm = spr_win_df.dropna(subset=['습도'])\n",
    "df_des = df_hm[['label','습도']]\n",
    "df_des.describe()\n"
   ]
  },
  {
   "cell_type": "code",
   "execution_count": 35,
   "id": "82acdcb3",
   "metadata": {},
   "outputs": [
    {
     "data": {
      "text/plain": [
       "<AxesSubplot:xlabel='label', ylabel='습도'>"
      ]
     },
     "execution_count": 35,
     "metadata": {},
     "output_type": "execute_result"
    },
    {
     "data": {
      "image/png": "[encoded data removed]",
      "text/plain": [
       "<Figure size 432x288 with 1 Axes>"
      ]
     },
     "metadata": {
      "needs_background": "light"
     },
     "output_type": "display_data"
    }
   ],
   "source": [
    "sns.boxplot(x='label', y='습도', hue='label', data = df_hm, palette = 'Set3')"
   ]
  },
  {
   "cell_type": "code",
   "execution_count": 36,
   "id": "7151d0f4",
   "metadata": {},
   "outputs": [
    {
     "data": {
      "text/plain": [
       "KstestResult(statistic=0.496, pvalue=9.301646788241219e-228)"
      ]
     },
     "execution_count": 36,
     "metadata": {},
     "output_type": "execute_result"
    }
   ],
   "source": [
    "ks_2samp(df_des[df_des['label']==0]['습도'], x)"
   ]
  },
  {
   "cell_type": "code",
   "execution_count": 37,
   "id": "e5c36139",
   "metadata": {},
   "outputs": [
    {
     "data": {
      "text/plain": [
       "KstestResult(statistic=0.496, pvalue=4.004441827866908e-214)"
      ]
     },
     "execution_count": 37,
     "metadata": {},
     "output_type": "execute_result"
    }
   ],
   "source": [
    "ks_2samp(df_des[df_des['label']==1]['습도'], x)"
   ]
  },
  {
   "cell_type": "code",
   "execution_count": 38,
   "id": "9349ece2",
   "metadata": {},
   "outputs": [
    {
     "data": {
      "text/plain": [
       "0.000"
      ]
     },
     "execution_count": 38,
     "metadata": {},
     "output_type": "execute_result"
    }
   ],
   "source": [
    "u, p = stats.mannwhitneyu(df_hm[df_hm['label']==1]['습도'], df_hm[df_hm['label']==0]['습도'],alternative='two-sided')\n",
    "p"
   ]
  },
  {
   "cell_type": "code",
   "execution_count": 41,
   "id": "aa6ef275",
   "metadata": {},
   "outputs": [
    {
     "data": {
      "text/html": [
       "<div>\n",
       "<style scoped>\n",
       "    .dataframe tbody tr th:only-of-type {\n",
       "        vertical-align: middle;\n",
       "    }\n",
       "\n",
       "    .dataframe tbody tr th {\n",
       "        vertical-align: top;\n",
       "    }\n",
       "\n",
       "    .dataframe thead th {\n",
       "        text-align: right;\n",
       "    }\n",
       "</style>\n",
       "<table border=\"1\" class=\"dataframe\">\n",
       "  <thead>\n",
       "    <tr style=\"text-align: right;\">\n",
       "      <th></th>\n",
       "      <th>label</th>\n",
       "      <th>실효습도</th>\n",
       "    </tr>\n",
       "  </thead>\n",
       "  <tbody>\n",
       "    <tr>\n",
       "      <th>count</th>\n",
       "      <td>1.048458e+07</td>\n",
       "      <td>1.048458e+07</td>\n",
       "    </tr>\n",
       "    <tr>\n",
       "      <th>mean</th>\n",
       "      <td>1.720908e-03</td>\n",
       "      <td>5.019057e+01</td>\n",
       "    </tr>\n",
       "    <tr>\n",
       "      <th>std</th>\n",
       "      <td>4.144812e-02</td>\n",
       "      <td>1.402721e+01</td>\n",
       "    </tr>\n",
       "    <tr>\n",
       "      <th>min</th>\n",
       "      <td>0.000000e+00</td>\n",
       "      <td>0.000000e+00</td>\n",
       "    </tr>\n",
       "    <tr>\n",
       "      <th>25%</th>\n",
       "      <td>0.000000e+00</td>\n",
       "      <td>4.009000e+01</td>\n",
       "    </tr>\n",
       "    <tr>\n",
       "      <th>50%</th>\n",
       "      <td>0.000000e+00</td>\n",
       "      <td>5.125000e+01</td>\n",
       "    </tr>\n",
       "    <tr>\n",
       "      <th>75%</th>\n",
       "      <td>0.000000e+00</td>\n",
       "      <td>6.099000e+01</td>\n",
       "    </tr>\n",
       "    <tr>\n",
       "      <th>max</th>\n",
       "      <td>1.000000e+00</td>\n",
       "      <td>1.302000e+02</td>\n",
       "    </tr>\n",
       "  </tbody>\n",
       "</table>\n",
       "</div>"
      ],
      "text/plain": [
       "              label          실효습도\n",
       "count  1.048458e+07  1.048458e+07\n",
       "mean   1.720908e-03  5.019057e+01\n",
       "std    4.144812e-02  1.402721e+01\n",
       "min    0.000000e+00  0.000000e+00\n",
       "25%    0.000000e+00  4.009000e+01\n",
       "50%    0.000000e+00  5.125000e+01\n",
       "75%    0.000000e+00  6.099000e+01\n",
       "max    1.000000e+00  1.302000e+02"
      ]
     },
     "execution_count": 41,
     "metadata": {},
     "output_type": "execute_result"
    }
   ],
   "source": [
    "# effective humidity\n",
    "df_efhm = spr_win_df.dropna(subset=['실효습도'])\n",
    "df_des = df_efhm[['label','실효습도']]\n",
    "df_des.describe()"
   ]
  },
  {
   "cell_type": "code",
   "execution_count": 42,
   "id": "a106ee7c",
   "metadata": {},
   "outputs": [
    {
     "data": {
      "text/plain": [
       "<AxesSubplot:xlabel='label', ylabel='실효습도'>"
      ]
     },
     "execution_count": 42,
     "metadata": {},
     "output_type": "execute_result"
    },
    {
     "data": {
      "image/png": "[encoded data removed]",
      "text/plain": [
       "<Figure size 432x288 with 1 Axes>"
      ]
     },
     "metadata": {
      "needs_background": "light"
     },
     "output_type": "display_data"
    }
   ],
   "source": [
    "sns.boxplot(x='label', y='실효습도', hue='label', data = df_efhm, palette = 'Set3')"
   ]
  },
  {
   "cell_type": "code",
   "execution_count": 43,
   "id": "df1930e7",
   "metadata": {},
   "outputs": [
    {
     "data": {
      "text/plain": [
       "KstestResult(statistic=0.99966034617556, pvalue=0.0)"
      ]
     },
     "execution_count": 43,
     "metadata": {},
     "output_type": "execute_result"
    }
   ],
   "source": [
    "ks_2samp(df_des[df_des['label']==0]['실효습도'], x)"
   ]
  },
  {
   "cell_type": "code",
   "execution_count": 44,
   "id": "9be16dd1",
   "metadata": {},
   "outputs": [
    {
     "data": {
      "text/plain": [
       "KstestResult(statistic=1.0, pvalue=0.0)"
      ]
     },
     "execution_count": 44,
     "metadata": {},
     "output_type": "execute_result"
    }
   ],
   "source": [
    "ks_2samp(df_des[df_des['label']==1]['실효습도'], x)"
   ]
  },
  {
   "cell_type": "code",
   "execution_count": 45,
   "id": "e49bfa97",
   "metadata": {},
   "outputs": [
    {
     "data": {
      "text/plain": [
       "0.000"
      ]
     },
     "execution_count": 45,
     "metadata": {},
     "output_type": "execute_result"
    }
   ],
   "source": [
    "u, p = stats.mannwhitneyu(df_efhm[df_efhm['label']==1]['실효습도'], df_efhm[df_efhm['label']==0]['실효습도'],alternative='two-sided')\n",
    "p"
   ]
  },
  {
   "cell_type": "code",
   "execution_count": null,
   "id": "bc5f4f5f",
   "metadata": {},
   "outputs": [],
   "source": []
  }
 ],
 "metadata": {
  "kernelspec": {
   "display_name": "Python 3 (ipykernel)",
   "language": "python",
   "name": "python3"
  },
  "language_info": {
   "codemirror_mode": {
    "name": "ipython",
    "version": 3
   },
   "file_extension": ".py",
   "mimetype": "text/x-python",
   "name": "python",
   "nbconvert_exporter": "python",
   "pygments_lexer": "ipython3",
   "version": "3.8.13"
  }
 },
 "nbformat": 4,
 "nbformat_minor": 5
}
