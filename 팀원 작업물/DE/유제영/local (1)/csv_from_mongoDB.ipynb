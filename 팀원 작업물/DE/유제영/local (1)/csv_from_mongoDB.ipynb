{
 "cells": [
  {
   "cell_type": "code",
   "execution_count": 21,
   "id": "17540b4b",
   "metadata": {},
   "outputs": [],
   "source": [
    "import pymongo\n",
    "import pandas as pd"
   ]
  },
  {
   "cell_type": "code",
   "execution_count": 22,
   "id": "91463ad5",
   "metadata": {},
   "outputs": [
    {
     "data": {
      "text/plain": [
       "MongoClient(host=['ec2-35-77-169-139.ap-northeast-1.compute.amazonaws.com:27017'], document_class=dict, tz_aware=False, connect=True)"
      ]
     },
     "execution_count": 22,
     "metadata": {},
     "output_type": "execute_result"
    }
   ],
   "source": [
    "client = pymongo.MongoClient(\"mongodb://ec2-35-77-169-139.ap-northeast-1.compute.amazonaws.com:27017/\")\n",
    "client"
   ]
  },
  {
   "cell_type": "code",
   "execution_count": 23,
   "id": "25e88822",
   "metadata": {},
   "outputs": [
    {
     "data": {
      "text/plain": [
       "Collection(Database(MongoClient(host=['ec2-35-77-169-139.ap-northeast-1.compute.amazonaws.com:27017'], document_class=dict, tz_aware=False, connect=True), 'dbMYJ'), 'users')"
      ]
     },
     "execution_count": 23,
     "metadata": {},
     "output_type": "execute_result"
    }
   ],
   "source": [
    "wildfire_table = client.dbMYJ.users\n",
    "wildfire_table"
   ]
  },
  {
   "cell_type": "code",
   "execution_count": 24,
   "id": "77ab1a51",
   "metadata": {},
   "outputs": [
    {
     "data": {
      "text/plain": [
       "<pymongo.cursor.Cursor at 0x2b756ef2be0>"
      ]
     },
     "execution_count": 24,
     "metadata": {},
     "output_type": "execute_result"
    }
   ],
   "source": [
    "result=wildfire_table.find()\n",
    "result"
   ]
  },
  {
   "cell_type": "code",
   "execution_count": 25,
   "id": "3b7b90fa",
   "metadata": {},
   "outputs": [],
   "source": [
    "df=pd.DataFrame(result)"
   ]
  },
  {
   "cell_type": "code",
   "execution_count": 27,
   "id": "9c469401",
   "metadata": {},
   "outputs": [],
   "source": [
    "df.to_csv(\"wildfire_his.csv\")"
   ]
  },
  {
   "cell_type": "code",
   "execution_count": 28,
   "id": "d7fea8a6",
   "metadata": {},
   "outputs": [],
   "source": [
    "point_info = client.hsy.latitude\n",
    "result = point_info.find()\n",
    "df=pd.DataFrame(result)\n",
    "df.to_csv(\"latitude.csv\")\n",
    "startdt_info = client.hsy.startdt\n",
    "result = startdt_info.find()\n",
    "df=pd.DataFrame(result)\n",
    "df.to_csv(\"point_start.csv\")"
   ]
  },
  {
   "cell_type": "code",
   "execution_count": null,
   "id": "c3edf921",
   "metadata": {},
   "outputs": [],
   "source": []
  }
 ],
 "metadata": {
  "kernelspec": {
   "display_name": "Python 3 (ipykernel)",
   "language": "python",
   "name": "python3"
  },
  "language_info": {
   "codemirror_mode": {
    "name": "ipython",
    "version": 3
   },
   "file_extension": ".py",
   "mimetype": "text/x-python",
   "name": "python",
   "nbconvert_exporter": "python",
   "pygments_lexer": "ipython3",
   "version": "3.8.13"
  }
 },
 "nbformat": 4,
 "nbformat_minor": 5
}
