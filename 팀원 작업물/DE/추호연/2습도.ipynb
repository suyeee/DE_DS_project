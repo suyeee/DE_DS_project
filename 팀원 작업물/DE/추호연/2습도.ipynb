{
 "cells": [
  {
   "cell_type": "code",
   "execution_count": null,
   "metadata": {},
   "outputs": [],
   "source": [
    "# 속초 강릉 동해 태백\n"
   ]
  },
  {
   "cell_type": "code",
   "execution_count": null,
   "metadata": {},
   "outputs": [],
   "source": [
    "import time\n",
    "import requests\n",
    "import pandas as pd"
   ]
  },
  {
   "cell_type": "code",
   "execution_count": null,
   "metadata": {},
   "outputs": [],
   "source": [
    "# request 접속\n",
    "def bs(url,payload):\n",
    "    \n",
    "    headers = {'User-Agent': 'Mozilla/5.0 (Linux; Android 6.0; Nexus 5 Build/MRA58N) AppleWebKit/537.36 (KHTML, like Gecko) Chrome/102.0.5005.63 Mobile Safari/537.36', \n",
    "           'Content-type':'application/x-www-form-urlencoded;charset=UTF-8;', \n",
    "           \n",
    "           }\n",
    "    #10번 시도\n",
    "    for i in range(20):\n",
    "        time.sleep(0.5)\n",
    "        # try:\n",
    "        response = requests.post(url,headers=headers,data=payload)\n",
    "        if response.json()['code'] !='00':\n",
    "            continue\n",
    "        # print(response.text)\n",
    "        return response\n",
    "\n",
    "        # except:\n",
    "        #     continue\n",
    "    print(f'false : {payload}')\n",
    "    return False"
   ]
  },
  {
   "cell_type": "code",
   "execution_count": null,
   "metadata": {},
   "outputs": [],
   "source": [
    "#시간\n",
    "\n",
    "import datetime\n",
    "import os\n",
    "\n",
    "until = datetime.datetime.strptime('20130101', '%Y%m%d')\n",
    "now = datetime.datetime.strptime('20101231', '%Y%m%d')\n",
    "while now != until:\n",
    "    \n",
    "    url = 'https://data.kma.go.kr/climate/ehum/selectEhumChartAjax.do'\n",
    "\n",
    "    dt = '20220703'\n",
    "    \n",
    "    strft = now.strftime('%Y%m%d')\n",
    "\n",
    "    payload=f'fileType=&pgmNo=110&menuNo=471&pageIndex=&maxTa=33.0&stnGroupSns=&serviceSe=F00101&\\\n",
    "        selectType=2&mddlClssCd=SFC01&txtStnNm=%EA%B0%95%EB%A6%89%2C%EB%8F%99%ED%95%B4%2C%EC%86%8D%EC%B4%88%2C%ED%83%9C%EB%B0%B1&schStnId=105%2C106%2C90%2C216&startDt={strft}'\n",
    "\n",
    "    data = bs(url,payload)\n",
    "    j = data.json()\n",
    "    \n",
    "    df = pd.DataFrame(j['data'])\n",
    "    if not os.path.exists(f\"data/습도.csv\"):\n",
    "        df.to_csv(f\"data/습도.csv\", index=False,mode='w')\n",
    "    else:\n",
    "        df.to_csv(f\"data/습도.csv\", index=False,mode='a', header=False)\n",
    "\n",
    "    \n",
    "    now += datetime.timedelta(days=1)"
   ]
  },
  {
   "cell_type": "code",
   "execution_count": null,
   "metadata": {},
   "outputs": [],
   "source": []
  },
  {
   "cell_type": "code",
   "execution_count": null,
   "metadata": {},
   "outputs": [],
   "source": []
  }
 ],
 "metadata": {
  "kernelspec": {
   "display_name": "Python 3.9.7 ('base')",
   "language": "python",
   "name": "python3"
  },
  "language_info": {
   "codemirror_mode": {
    "name": "ipython",
    "version": 3
   },
   "file_extension": ".py",
   "mimetype": "text/x-python",
   "name": "python",
   "nbconvert_exporter": "python",
   "pygments_lexer": "ipython3",
   "version": "3.9.7"
  },
  "orig_nbformat": 4,
  "vscode": {
   "interpreter": {
    "hash": "ad2bdc8ecc057115af97d19610ffacc2b4e99fae6737bb82f5d7fb13d2f2c186"
   }
  }
 },
 "nbformat": 4,
 "nbformat_minor": 2
}
